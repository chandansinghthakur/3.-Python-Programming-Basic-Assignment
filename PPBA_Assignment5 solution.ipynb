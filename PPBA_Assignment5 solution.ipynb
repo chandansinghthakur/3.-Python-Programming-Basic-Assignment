{
 "cells": [
  {
   "cell_type": "markdown",
   "id": "4f455b95",
   "metadata": {},
   "source": [
    "# 1.\tWrite a Python Program to Find LCM?"
   ]
  },
  {
   "cell_type": "code",
   "execution_count": 3,
   "id": "d09d3166",
   "metadata": {},
   "outputs": [
    {
     "name": "stdout",
     "output_type": "stream",
     "text": [
      "Enter 1st number : fb\n",
      "invalid literal for int() with base 10: 'fb'\n",
      "Enter 1st number : -78\n",
      "Enter 2nd number : 24\n",
      "One of your input is invalid\n",
      "Enter 1st number : 10\n",
      "Enter 2nd number : 50\n",
      "The LCM is :  50\n"
     ]
    }
   ],
   "source": [
    "while True:\n",
    "    try:\n",
    "        a = int(input(\"Enter 1st number : \"))\n",
    "        b = int(input(\"Enter 2nd number : \"))\n",
    "        if (a>0) and (b>0):\n",
    "            def gcd(x,y):\n",
    "                while(y):\n",
    "                    x,y=y,x%y\n",
    "                return x\n",
    "            def lcm(x,y):\n",
    "                lcm = (x*y)//gcd(x,y)\n",
    "                return lcm\n",
    "            \n",
    "            print(\"The LCM is : \", lcm(a,b))\n",
    "            break\n",
    "        print(\"One of your input is invalid\")\n",
    "    except Exception as e:\n",
    "        print(e)"
   ]
  },
  {
   "cell_type": "markdown",
   "id": "1b99cd23",
   "metadata": {},
   "source": [
    "# 2.\tWrite a Python Program to Find HCF?"
   ]
  },
  {
   "cell_type": "code",
   "execution_count": 5,
   "id": "521ec530",
   "metadata": {},
   "outputs": [
    {
     "name": "stdout",
     "output_type": "stream",
     "text": [
      "Enter 1st number : 54\n",
      "Enter 2nd number : 24\n",
      "The HCF is :  6\n"
     ]
    }
   ],
   "source": [
    "while True:\n",
    "    try:\n",
    "        a = int(input(\"Enter 1st number : \"))\n",
    "        b = int(input(\"Enter 2nd number : \"))\n",
    "        if (a>0) and (b>0):\n",
    "            def hcf(x,y):\n",
    "                while(y):\n",
    "                    x,y=y,x%y\n",
    "                return x\n",
    "            \n",
    "            print(\"The HCF is : \", hcf(a,b))\n",
    "            break\n",
    "        print(\"One of your input is invalid\")\n",
    "    except Exception as e:\n",
    "        print(e)"
   ]
  },
  {
   "cell_type": "markdown",
   "id": "98fabc8e",
   "metadata": {},
   "source": [
    "# 3.\tWrite a Python Program to Convert Decimal to Binary, Octal and Hexadecimal?"
   ]
  },
  {
   "cell_type": "code",
   "execution_count": 32,
   "id": "ad48693f",
   "metadata": {},
   "outputs": [
    {
     "name": "stdout",
     "output_type": "stream",
     "text": [
      "enter the number : 344\n",
      "The decimal value of 344 is :\n",
      "0b101011000 in binary.\n",
      "0o530 in octal.\n",
      "0x158 in hexadecimal.\n"
     ]
    }
   ],
   "source": [
    "while True:\n",
    "    try:\n",
    "        num = int(input(\"enter the number : \"))\n",
    "        if num > 0:\n",
    "            print(f\"The decimal value of {num} is :\")\n",
    "            print(f\"{bin(num)} in binary.\")\n",
    "            print(f\"{oct(num)} in octal.\")\n",
    "            print(f\"{hex(num)} in hexadecimal.\")\n",
    "            break\n",
    "        print(\"Please enter the valid number.\")\n",
    "    except Exception as e:\n",
    "        print(e)"
   ]
  },
  {
   "cell_type": "markdown",
   "id": "4a0e0e56",
   "metadata": {},
   "source": [
    "# 4.\tWrite a Python Program To Find ASCII value of a character?"
   ]
  },
  {
   "cell_type": "code",
   "execution_count": 37,
   "id": "141aff0d",
   "metadata": {},
   "outputs": [
    {
     "name": "stdout",
     "output_type": "stream",
     "text": [
      "Enter a character : ad\n",
      "Enter only one character\n",
      "Enter a character : c\n",
      "The ASCII value of c is 99.\n"
     ]
    }
   ],
   "source": [
    "while True:\n",
    "    try:\n",
    "        a = str(input(\"Enter a character : \"))\n",
    "        if len(a)==1:\n",
    "            print(f\"The ASCII value of {a} is {ord(a)}.\")\n",
    "            break\n",
    "        print(\"Enter only one character\")\n",
    "    except Exception as e:\n",
    "        print(e)"
   ]
  },
  {
   "cell_type": "markdown",
   "id": "38081471",
   "metadata": {},
   "source": [
    "# 5.\tWrite a Python Program to Make a Simple Calculator with 4 basic mathematical operations?"
   ]
  },
  {
   "cell_type": "code",
   "execution_count": 43,
   "id": "4c6ab2e1",
   "metadata": {},
   "outputs": [
    {
     "name": "stdout",
     "output_type": "stream",
     "text": [
      "Select operation :\n",
      "        1. Add\n",
      "        2. Subtract\n",
      "        3. Multiply\n",
      "        4. Divide\n",
      "Enter choice(1/2/3/4): 1\n",
      "Enter 1st number : 2\n",
      "Enter 2nd number : 3\n",
      "2.0 + 3.0 = 5.0\n",
      "Let's do next calculation? (yes/no): yes\n",
      "Enter choice(1/2/3/4): 2\n",
      "Enter 1st number : 10\n",
      "Enter 2nd number : 3\n",
      "10.0 - 3.0 = 7.0\n",
      "Let's do next calculation? (yes/no): yes\n",
      "Enter choice(1/2/3/4): 3\n",
      "Enter 1st number : 12\n",
      "Enter 2nd number : 2\n",
      "12.0 x 2.0 = 24.0\n",
      "Let's do next calculation? (yes/no): yes\n",
      "Enter choice(1/2/3/4): 100\n",
      "Invalid input\n",
      "Enter choice(1/2/3/4): 4\n",
      "Enter 1st number : 100\n",
      "Enter 2nd number : 15\n",
      "100.0 / 15.0 = 6.666666666666667\n",
      "Let's do next calculation? (yes/no): no\n"
     ]
    }
   ],
   "source": [
    "def add(a,b):\n",
    "    return a+b\n",
    "\n",
    "def subtract(a,b):\n",
    "    return a-b\n",
    "\n",
    "def multiply(a,b):\n",
    "    return a*b\n",
    "\n",
    "def divide(a,b):\n",
    "    return a/b\n",
    "print(\"\"\"Select operation :\n",
    "        1. Add\n",
    "        2. Subtract\n",
    "        3. Multiply\n",
    "        4. Divide\"\"\")\n",
    "while True:\n",
    "    choice = input(\"Enter choice(1/2/3/4): \")\n",
    "    if choice in ('1', '2', '3', '4'):\n",
    "        num1 = float(input(\"Enter 1st number : \"))\n",
    "        num2 = float(input(\"Enter 2nd number : \"))\n",
    "        if choice == '1':\n",
    "            print(f'{num1} + {num2} = {add(num1, num2)}')\n",
    "        elif choice =='2':\n",
    "            print(f'{num1} - {num2} = {subtract(num1, num2)}')\n",
    "        elif choice=='3':\n",
    "            print(f'{num1} x {num2} = {multiply(num1, num2)}')\n",
    "        elif choice =='4':\n",
    "            print(f'{num1} / {num2} = {divide(num1, num2)}')\n",
    "            \n",
    "        next_calculation = input(\"Let's do next calculation? (yes/no): \")\n",
    "        if next_calculation == 'no':\n",
    "            break\n",
    "    else:\n",
    "        print(\"Invalid input\")"
   ]
  },
  {
   "cell_type": "code",
   "execution_count": null,
   "id": "74d8e858",
   "metadata": {},
   "outputs": [],
   "source": []
  }
 ],
 "metadata": {
  "kernelspec": {
   "display_name": "Python 3 (ipykernel)",
   "language": "python",
   "name": "python3"
  },
  "language_info": {
   "codemirror_mode": {
    "name": "ipython",
    "version": 3
   },
   "file_extension": ".py",
   "mimetype": "text/x-python",
   "name": "python",
   "nbconvert_exporter": "python",
   "pygments_lexer": "ipython3",
   "version": "3.9.7"
  }
 },
 "nbformat": 4,
 "nbformat_minor": 5
}
