{
 "cells": [
  {
   "cell_type": "markdown",
   "id": "5458168e",
   "metadata": {},
   "source": [
    "## 1.\tWrite a Python program to check if the given number is a Disarium Number?"
   ]
  },
  {
   "cell_type": "code",
   "execution_count": null,
   "id": "b5d4a37f",
   "metadata": {},
   "outputs": [],
   "source": [
    "def checkDisarium():\n",
    "    a = int(input(\"Enter a number : \"))\n",
    "    sum = 0\n",
    "    for i in range(len(a)):\n",
    "        sum = sum + int(str(a))[i]**(i+1)\n",
    "    if sum == a\n",
    "    print(f\"{a} is a Disarium Number.\")"
   ]
  },
  {
   "cell_type": "markdown",
   "id": "a3a4f812",
   "metadata": {},
   "source": [
    "## 2.\tWrite a Python program to print all disarium numbers between 1 to 100?"
   ]
  },
  {
   "cell_type": "code",
   "execution_count": 6,
   "id": "71c92142",
   "metadata": {},
   "outputs": [
    {
     "data": {
      "text/plain": [
       "[1, 2, 3, 4, 5, 6, 7, 8, 9, 89]"
      ]
     },
     "execution_count": 6,
     "metadata": {},
     "output_type": "execute_result"
    }
   ],
   "source": [
    "def disarium(a,b):\n",
    "    output = []\n",
    "    for i in range(a,b+1):\n",
    "        sum = 0\n",
    "        for j in range(len(str(i))):\n",
    "            sum += int(str(i)[j])**(j+1)\n",
    "        if sum == i:\n",
    "            output.append(i)\n",
    "    return output\n",
    "disarium(1,100)"
   ]
  },
  {
   "cell_type": "markdown",
   "id": "334ec570",
   "metadata": {},
   "source": [
    "## 3.\tWrite a Python program to check if the given number is Happy Number?"
   ]
  },
  {
   "cell_type": "code",
   "execution_count": 9,
   "id": "c721546e",
   "metadata": {},
   "outputs": [
    {
     "name": "stdout",
     "output_type": "stream",
     "text": [
      "Enter a number : 45\n",
      "45 is NOT a Happy Number.\n"
     ]
    }
   ],
   "source": [
    "def checkhappynumber(num):\n",
    "    sum = 0\n",
    "    r = sum \n",
    "    \n",
    "    while num>0 :\n",
    "        r = num % 10\n",
    "        sum += r*r\n",
    "        num = num//10\n",
    "    return sum\n",
    "\n",
    "num = int(input(\"Enter a number : \"))\n",
    "result = num\n",
    "\n",
    "while(result!=1 and result!=4):\n",
    "    result = checkhappynumber(result)\n",
    "\n",
    "if result == 1:\n",
    "    print(f\"{num} is a Happy Number.\")\n",
    "else:\n",
    "    print(f\"{num} is NOT a Happy Number.\")"
   ]
  },
  {
   "cell_type": "markdown",
   "id": "61ea89a6",
   "metadata": {},
   "source": [
    "## 4.\tWrite a Python program to print all happy numbers between 1 and 100?"
   ]
  },
  {
   "cell_type": "code",
   "execution_count": 13,
   "id": "00a9d8b1",
   "metadata": {},
   "outputs": [
    {
     "name": "stdout",
     "output_type": "stream",
     "text": [
      "1 7 10 13 19 23 28 31 32 44 49 68 70 79 82 86 91 94 97 100 "
     ]
    }
   ],
   "source": [
    "def happynumber(num):\n",
    "    sum = 0\n",
    "    r = sum \n",
    "    \n",
    "    while num>0 :\n",
    "        r = num % 10\n",
    "        sum += r*r\n",
    "        num = num//10\n",
    "    return sum\n",
    "\n",
    "for i in range(1,101):\n",
    "    result = i\n",
    "    while (result !=1 and result !=4):\n",
    "        result = happynumber(result)\n",
    "    if result==1:\n",
    "        print(i, end=\" \")"
   ]
  },
  {
   "cell_type": "markdown",
   "id": "a3a7191f",
   "metadata": {},
   "source": [
    "## 5.\tWrite a Python program to determine whether the given number is a Harshad Number?"
   ]
  },
  {
   "cell_type": "code",
   "execution_count": 19,
   "id": "722e3a78",
   "metadata": {},
   "outputs": [
    {
     "name": "stdout",
     "output_type": "stream",
     "text": [
      "Enter a number : 353\n",
      "353 is NOT a Harshad Number.\n"
     ]
    }
   ],
   "source": [
    "def harshadnumber():\n",
    "    num = input(\"Enter a number : \")\n",
    "    sum = 0\n",
    "    for i in range(len(num)):\n",
    "        sum += int(num[i])\n",
    "    if int(num)%sum == 0:\n",
    "        print(f\"{num} is a Harshad number.\")\n",
    "    else:\n",
    "        print(f\"{num} is NOT a Harshad Number.\")\n",
    "harshadnumber()"
   ]
  },
  {
   "cell_type": "markdown",
   "id": "8fb52dbc",
   "metadata": {},
   "source": [
    "## 6.\tWrite a Python program to print all pronic numbers between 1 and 100?"
   ]
  },
  {
   "cell_type": "code",
   "execution_count": 2,
   "id": "74a9815c",
   "metadata": {},
   "outputs": [
    {
     "name": "stdout",
     "output_type": "stream",
     "text": [
      "2 6 12 20 30 42 56 72 90 "
     ]
    }
   ],
   "source": [
    "def pronicnumber(num):\n",
    "    flag=0\n",
    "    for i in range(num+1):\n",
    "        if i*(i+1) == num:\n",
    "            flag = 1\n",
    "            break\n",
    "    return flag\n",
    "for j in range(1,101):\n",
    "    if pronicnumber(j):\n",
    "        print(j, end=\" \")"
   ]
  },
  {
   "cell_type": "code",
   "execution_count": null,
   "id": "81ab2782",
   "metadata": {},
   "outputs": [],
   "source": []
  }
 ],
 "metadata": {
  "kernelspec": {
   "display_name": "Python 3 (ipykernel)",
   "language": "python",
   "name": "python3"
  },
  "language_info": {
   "codemirror_mode": {
    "name": "ipython",
    "version": 3
   },
   "file_extension": ".py",
   "mimetype": "text/x-python",
   "name": "python",
   "nbconvert_exporter": "python",
   "pygments_lexer": "ipython3",
   "version": "3.9.7"
  }
 },
 "nbformat": 4,
 "nbformat_minor": 5
}
