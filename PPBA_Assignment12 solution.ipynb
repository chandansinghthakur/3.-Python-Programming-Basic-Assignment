{
 "cells": [
  {
   "cell_type": "markdown",
   "id": "202bee7c",
   "metadata": {},
   "source": [
    "### 1.\tWrite a Python program to Extract Unique values dictionary values?"
   ]
  },
  {
   "cell_type": "code",
   "execution_count": 3,
   "id": "84be0dfe",
   "metadata": {},
   "outputs": [
    {
     "name": "stdout",
     "output_type": "stream",
     "text": [
      "dict_values(['Chris Evans', 'Avengers', 2012, 8.1])\n"
     ]
    }
   ],
   "source": [
    "d1 = {\n",
    "    'name' : 'Chris Evans',\n",
    "    'movie' : 'Avengers',\n",
    "    'year' : 2012,\n",
    "    'imdb_ratings' : 8.1\n",
    "}\n",
    "print(d1.values())"
   ]
  },
  {
   "cell_type": "markdown",
   "id": "948bf882",
   "metadata": {},
   "source": [
    "### 2.\tWrite a Python program to find the sum of all items in a dictionary?"
   ]
  },
  {
   "cell_type": "code",
   "execution_count": 6,
   "id": "d393b61e",
   "metadata": {},
   "outputs": [
    {
     "name": "stdout",
     "output_type": "stream",
     "text": [
      "Sum of all items in dictionary : 405\n"
     ]
    }
   ],
   "source": [
    "d2 = {\n",
    "    'Apple' : 50,\n",
    "    'Banana' : 20,\n",
    "    'Pineapple' : 250,\n",
    "    'Grapes' : 85\n",
    "}\n",
    "print(f\"Sum of all items in dictionary : {sum(d2.values())}\")"
   ]
  },
  {
   "cell_type": "markdown",
   "id": "c44c4830",
   "metadata": {},
   "source": [
    "### 3.\tWrite a Python program to Merging two Dictionaries?"
   ]
  },
  {
   "cell_type": "code",
   "execution_count": 7,
   "id": "fe3247d8",
   "metadata": {},
   "outputs": [
    {
     "name": "stdout",
     "output_type": "stream",
     "text": [
      "{'name': 'Chris Evans', 'movie': 'Avengers', 'year': 2012, 'imdb_ratings': 8.1, 'Apple': 50, 'Banana': 20, 'Pineapple': 250, 'Grapes': 85}\n"
     ]
    }
   ],
   "source": [
    "d3 = {\n",
    "    'name' : 'Chris Evans',\n",
    "    'movie' : 'Avengers',\n",
    "    'year' : 2012,\n",
    "    'imdb_ratings' : 8.1\n",
    "}\n",
    "d4 = {\n",
    "    'Apple' : 50,\n",
    "    'Banana' : 20,\n",
    "    'Pineapple' : 250,\n",
    "    'Grapes' : 85\n",
    "}\n",
    "d3.update(d4)\n",
    "print(d3)"
   ]
  },
  {
   "cell_type": "markdown",
   "id": "e549b55a",
   "metadata": {},
   "source": [
    "### 4.\tWrite a Python program to convert key-values list to flat dictionary?"
   ]
  },
  {
   "cell_type": "code",
   "execution_count": 8,
   "id": "bc17c2e0",
   "metadata": {},
   "outputs": [
    {
     "name": "stdout",
     "output_type": "stream",
     "text": [
      "{'A': 1, 'B': 2, 'C': 3}\n"
     ]
    }
   ],
   "source": [
    "l = [('A',1),('B',2),('C',3)]\n",
    "print(dict(l))"
   ]
  },
  {
   "cell_type": "markdown",
   "id": "16a37e73",
   "metadata": {},
   "source": [
    "### 5.\tWrite a Python program to insertion at the beginning in OrderedDict?"
   ]
  },
  {
   "cell_type": "code",
   "execution_count": 15,
   "id": "db65eb7c",
   "metadata": {},
   "outputs": [
    {
     "name": "stdout",
     "output_type": "stream",
     "text": [
      "Original dict : {'name': 'Chris Evans', 'movie': 'Avengers', 'year': 2012, 'imdb_ratings': 8.1}\n",
      "To be updated at begining in original dict : {'latest movie': 'avengers end game'}\n",
      "Insert at beginning : {'latest movie': 'avengers end game', 'name': 'Chris Evans', 'movie': 'Avengers', 'year': 2012, 'imdb_ratings': 8.1}\n"
     ]
    }
   ],
   "source": [
    "from collections import OrderedDict\n",
    "d5 = {\n",
    "    'name' : 'Chris Evans',\n",
    "    'movie' : 'Avengers',\n",
    "    'year' : 2012,\n",
    "    'imdb_ratings' : 8.1\n",
    "}\n",
    "print(f\"Original dict : {d5}\")\n",
    "\n",
    "d5a = {'latest movie': 'avengers end game'}\n",
    "print(f\"To be updated at begining in original dict : {d5a}\")\n",
    "d5a.update(d5)\n",
    "print(f\"Insert at beginning : {d5a}\")"
   ]
  },
  {
   "cell_type": "markdown",
   "id": "efc185a0",
   "metadata": {},
   "source": [
    "### 6.\tWrite a Python program to check order of character in string using OrderedDict()?"
   ]
  },
  {
   "cell_type": "code",
   "execution_count": 16,
   "id": "37ff61d8",
   "metadata": {},
   "outputs": [
    {
     "name": "stdout",
     "output_type": "stream",
     "text": [
      "{'name': 'Chris Evans', 'movie': 'Avengers', 'year': 2012, 'imdb_ratings': 8.1, 'A': 1, 'B': 2, 'C': 3}\n",
      "OrderedDict([('A', 1), ('B', 2), ('C', 3), ('imdb_ratings', 8.1), ('movie', 'Avengers'), ('name', 'Chris Evans'), ('year', 2012)])\n"
     ]
    }
   ],
   "source": [
    "from collections import OrderedDict\n",
    "\n",
    "l = {\n",
    "    'name' : 'Chris Evans',\n",
    "    'movie' : 'Avengers',\n",
    "    'year' : 2012,\n",
    "    'imdb_ratings' : 8.1,\n",
    "    'A': 1, 'B': 2, 'C': 3\n",
    "}\n",
    "print(l)\n",
    "\n",
    "l1 = OrderedDict(dict(sorted(l.items())))\n",
    "print(l1)"
   ]
  },
  {
   "cell_type": "markdown",
   "id": "d7a1a75a",
   "metadata": {},
   "source": [
    "### 7.\tWrite a Python program to sort Python Dictionaries by Key or Value?"
   ]
  },
  {
   "cell_type": "code",
   "execution_count": 17,
   "id": "f14c05df",
   "metadata": {},
   "outputs": [
    {
     "name": "stdout",
     "output_type": "stream",
     "text": [
      "{'Apple': 50, 'Banana': 20, 'Grapes': 85, 'Pineapple': 250}\n",
      "{'Banana': 20, 'Apple': 50, 'Grapes': 85, 'Pineapple': 250}\n"
     ]
    }
   ],
   "source": [
    "d4 = {\n",
    "    'Apple' : 50,\n",
    "    'Banana' : 20,\n",
    "    'Pineapple' : 250,\n",
    "    'Grapes' : 85\n",
    "}\n",
    "def sortDict(in_dict, sort_type):\n",
    "    if sort_type=='key':\n",
    "        a = dict(sorted(in_dict.items(), key=lambda x:x[0], reverse=False))\n",
    "        print(a)\n",
    "    else:\n",
    "        b = dict(sorted(in_dict.items(), key=lambda x:x[1], reverse=False))\n",
    "        print(b)\n",
    "sortDict(d4, 'key')\n",
    "sortDict(d4, 'value')"
   ]
  },
  {
   "cell_type": "code",
   "execution_count": null,
   "id": "02895811",
   "metadata": {},
   "outputs": [],
   "source": []
  }
 ],
 "metadata": {
  "kernelspec": {
   "display_name": "Python 3 (ipykernel)",
   "language": "python",
   "name": "python3"
  },
  "language_info": {
   "codemirror_mode": {
    "name": "ipython",
    "version": 3
   },
   "file_extension": ".py",
   "mimetype": "text/x-python",
   "name": "python",
   "nbconvert_exporter": "python",
   "pygments_lexer": "ipython3",
   "version": "3.9.7"
  }
 },
 "nbformat": 4,
 "nbformat_minor": 5
}
