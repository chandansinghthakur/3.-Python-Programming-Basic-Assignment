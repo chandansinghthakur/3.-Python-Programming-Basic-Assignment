{
 "cells": [
  {
   "cell_type": "markdown",
   "id": "b68a10b6",
   "metadata": {},
   "source": [
    "#### Question1. Write a function that stutters a word as if someone is struggling to read it. The first two letters are repeated twice with an ellipsis ... and space after each, and then the word is pronounced with a question mark ?.\n",
    "Examples\n",
    "stutter(\"incredible\") ➞ \"in... in... incredible?\"\n",
    "\n",
    "stutter(\"enthusiastic\") ➞ \"en... en... enthusiastic?\"\n",
    "\n",
    "stutter(\"outstanding\") ➞ \"ou... ou... outstanding?\"\n",
    "\n",
    "Hint :- Assume all input is in lower case and at least two characters long.\n"
   ]
  },
  {
   "cell_type": "code",
   "execution_count": 1,
   "id": "befb51bd",
   "metadata": {},
   "outputs": [],
   "source": [
    "def stutter(word):\n",
    "    print((2*(word[:2]+'...'))+word+'?')"
   ]
  },
  {
   "cell_type": "code",
   "execution_count": 3,
   "id": "a5349228",
   "metadata": {},
   "outputs": [
    {
     "name": "stdout",
     "output_type": "stream",
     "text": [
      "in...in...incredible?\n",
      "en...en...enthusiastic?\n",
      "ou...ou...outstanding?\n"
     ]
    }
   ],
   "source": [
    "stutter(\"incredible\")\n",
    "stutter(\"enthusiastic\")\n",
    "stutter(\"outstanding\")"
   ]
  },
  {
   "cell_type": "markdown",
   "id": "7dcdb2e2",
   "metadata": {},
   "source": [
    "#### Question 2.Create a function that takes an angle in radians and returns the corresponding angle in degrees rounded to one decimal place.\n",
    "Examples\n",
    "radians_to_degrees(1) ➞ 57.3\n",
    "\n",
    "radians_to_degrees(20) ➞ 1145.9\n",
    "\n",
    "radians_to_degrees(50) ➞ 2864.8\n"
   ]
  },
  {
   "cell_type": "code",
   "execution_count": 7,
   "id": "52f2e66c",
   "metadata": {},
   "outputs": [],
   "source": [
    "def rad_to_deg(angle):\n",
    "    return ((angle*180)/3.14)"
   ]
  },
  {
   "cell_type": "code",
   "execution_count": 8,
   "id": "3afc0246",
   "metadata": {},
   "outputs": [
    {
     "data": {
      "text/plain": [
       "57.324840764331206"
      ]
     },
     "execution_count": 8,
     "metadata": {},
     "output_type": "execute_result"
    }
   ],
   "source": [
    "rad_to_deg(1)"
   ]
  },
  {
   "cell_type": "code",
   "execution_count": 9,
   "id": "b9a9463a",
   "metadata": {},
   "outputs": [
    {
     "data": {
      "text/plain": [
       "1146.4968152866243"
      ]
     },
     "execution_count": 9,
     "metadata": {},
     "output_type": "execute_result"
    }
   ],
   "source": [
    "rad_to_deg(20)"
   ]
  },
  {
   "cell_type": "code",
   "execution_count": 10,
   "id": "1b459b7f",
   "metadata": {},
   "outputs": [
    {
     "data": {
      "text/plain": [
       "2866.2420382165606"
      ]
     },
     "execution_count": 10,
     "metadata": {},
     "output_type": "execute_result"
    }
   ],
   "source": [
    "rad_to_deg(50)"
   ]
  },
  {
   "cell_type": "markdown",
   "id": "d88b784a",
   "metadata": {},
   "source": [
    "### Question 3. In this challenge, establish if a given integer num is a Curzon number. If 1 plus 2 elevated to num is exactly divisible by 1 plus 2 multiplied by num, then num is a Curzon number.\n",
    "#### Given a non-negative integer num, implement a function that returns True if num is a Curzon number, or False otherwise.\n",
    "#### Examples\n",
    "#### is_curzon(5) ➞ True\n",
    "#### 2 ** 5 + 1 = 33\n",
    "#### 2 * 5 + 1 = 11\n",
    "#### 33 is a multiple of 11\n",
    "\n",
    "#### is_curzon(10) ➞ False\n",
    "#### 2 ** 10 + 1 = 1025\n",
    "#### 2 * 10 + 1 = 21\n",
    "#### 1025 is not a multiple of 21\n",
    "\n",
    "#### is_curzon(14) ➞ True\n",
    "#### 2 ** 14 + 1 = 16385\n",
    "#### 2 * 14 + 1 = 29\n",
    "#### 16385 is a multiple of 29\n"
   ]
  },
  {
   "cell_type": "code",
   "execution_count": 13,
   "id": "92b7473a",
   "metadata": {},
   "outputs": [],
   "source": [
    "def is_curzon(n):\n",
    "    a = 2**n+1\n",
    "    b = 2*n+1\n",
    "    return a%b==0\n",
    "\n"
   ]
  },
  {
   "cell_type": "code",
   "execution_count": 14,
   "id": "16e7ac62",
   "metadata": {},
   "outputs": [
    {
     "data": {
      "text/plain": [
       "True"
      ]
     },
     "execution_count": 14,
     "metadata": {},
     "output_type": "execute_result"
    }
   ],
   "source": [
    "is_curzon(5)"
   ]
  },
  {
   "cell_type": "code",
   "execution_count": 15,
   "id": "2b3d8786",
   "metadata": {},
   "outputs": [
    {
     "data": {
      "text/plain": [
       "False"
      ]
     },
     "execution_count": 15,
     "metadata": {},
     "output_type": "execute_result"
    }
   ],
   "source": [
    "is_curzon(10)"
   ]
  },
  {
   "cell_type": "code",
   "execution_count": 16,
   "id": "3a3167c3",
   "metadata": {},
   "outputs": [
    {
     "data": {
      "text/plain": [
       "True"
      ]
     },
     "execution_count": 16,
     "metadata": {},
     "output_type": "execute_result"
    }
   ],
   "source": [
    "is_curzon(14)"
   ]
  },
  {
   "cell_type": "markdown",
   "id": "d2eb12ce",
   "metadata": {},
   "source": [
    "#### Question 4.Given the side length x find the area of a hexagon.\n",
    "\n",
    "Examples\n",
    "area_of_hexagon(1) ➞ 2.6\n",
    "\n",
    "area_of_hexagon(2) ➞ 10.4\n",
    "\n",
    "area_of_hexagon(3) ➞ 23.4\n"
   ]
  },
  {
   "attachments": {
    "assignment_16%20Q.4.jpg": {
     "image/jpeg": "[encoded data removed]"
    }
   },
   "cell_type": "markdown",
   "id": "5fe690dd",
   "metadata": {},
   "source": [
    "![assignment_16%20Q.4.jpg](attachment:assignment_16%20Q.4.jpg)"
   ]
  },
  {
   "cell_type": "code",
   "execution_count": 17,
   "id": "d4b3a8cb",
   "metadata": {},
   "outputs": [],
   "source": [
    "def area_of_hexagon(s):\n",
    "    area = (3*1.7321*s*s)/2\n",
    "    print(area)"
   ]
  },
  {
   "cell_type": "code",
   "execution_count": 18,
   "id": "592a87ab",
   "metadata": {},
   "outputs": [
    {
     "name": "stdout",
     "output_type": "stream",
     "text": [
      "2.59815\n",
      "10.3926\n",
      "23.38335\n"
     ]
    }
   ],
   "source": [
    "area_of_hexagon(1)\n",
    "area_of_hexagon(2)\n",
    "area_of_hexagon(3)"
   ]
  },
  {
   "cell_type": "markdown",
   "id": "915d314e",
   "metadata": {},
   "source": [
    "#### Question 5. Create a function that returns a base-2 (binary) representation of a base-10 (decimal) string number. To convert is simple: ((2) means base-2 and (10) means base-10) 010101001(2) = 1 + 8 + 32 + 128.\n",
    "#### Going from right to left, the value of the most right bit is 1, now from that every bit to the left will be x2 the value, value of an 8 bit binary numbers are (256, 128, 64, 32, 16, 8, 4, 2, 1).\n",
    "#### Examples\n",
    "#### binary(1) ➞ \"1\"\n",
    "#### 1*1 = 1\n",
    "\n",
    "#### binary(5) ➞ \"101\"\n",
    "#### 1*1 + 1*4 = 5\n",
    "\n",
    "#### binary(10) ➞ \"1010\"\n",
    "#### 1*2 + 1*8 = 10\n"
   ]
  },
  {
   "cell_type": "code",
   "execution_count": 20,
   "id": "046218b5",
   "metadata": {},
   "outputs": [],
   "source": [
    "def binary(n):\n",
    "    return bin(n).replace(\"0b\",\"\")"
   ]
  },
  {
   "cell_type": "code",
   "execution_count": 21,
   "id": "1e14eba1",
   "metadata": {},
   "outputs": [
    {
     "data": {
      "text/plain": [
       "'1'"
      ]
     },
     "execution_count": 21,
     "metadata": {},
     "output_type": "execute_result"
    }
   ],
   "source": [
    "binary(1)"
   ]
  },
  {
   "cell_type": "code",
   "execution_count": 22,
   "id": "b8fa904c",
   "metadata": {},
   "outputs": [
    {
     "data": {
      "text/plain": [
       "'101'"
      ]
     },
     "execution_count": 22,
     "metadata": {},
     "output_type": "execute_result"
    }
   ],
   "source": [
    "binary(5)"
   ]
  },
  {
   "cell_type": "code",
   "execution_count": 23,
   "id": "9465a1e4",
   "metadata": {},
   "outputs": [
    {
     "data": {
      "text/plain": [
       "'1010'"
      ]
     },
     "execution_count": 23,
     "metadata": {},
     "output_type": "execute_result"
    }
   ],
   "source": [
    "binary(10)"
   ]
  },
  {
   "cell_type": "code",
   "execution_count": null,
   "id": "fa65c9c5",
   "metadata": {},
   "outputs": [],
   "source": []
  }
 ],
 "metadata": {
  "kernelspec": {
   "display_name": "Python 3 (ipykernel)",
   "language": "python",
   "name": "python3"
  },
  "language_info": {
   "codemirror_mode": {
    "name": "ipython",
    "version": 3
   },
   "file_extension": ".py",
   "mimetype": "text/x-python",
   "name": "python",
   "nbconvert_exporter": "python",
   "pygments_lexer": "ipython3",
   "version": "3.9.7"
  }
 },
 "nbformat": 4,
 "nbformat_minor": 5
}
