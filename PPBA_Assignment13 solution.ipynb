{
 "cells": [
  {
   "cell_type": "markdown",
   "id": "0695493b",
   "metadata": {},
   "source": [
    "#### Question 1:\n",
    "\n",
    "Write a program that calculates and prints the value according to the given formula:\n",
    "\n",
    "`Q = Square root of [(2 * C * D)/H]`\n",
    "\n",
    "Following are the fixed values of C and H:\n",
    "\n",
    "C is 50. H is 30.\n",
    "\n",
    "D is the variable whose values should be input to your program in a comma-separated sequence.\n",
    "\n",
    "Example\n",
    "\n",
    "Let us assume the following comma separated input sequence is given to the program:\n",
    "\n",
    "100,150,180\n",
    "\n",
    "The output of the program should be:\n",
    "\n",
    "18,22,24\n"
   ]
  },
  {
   "cell_type": "code",
   "execution_count": 5,
   "id": "95f1e7cf",
   "metadata": {},
   "outputs": [
    {
     "name": "stdout",
     "output_type": "stream",
     "text": [
      "Enter the number : 100,150,180\n",
      "result : 18,22,24\n"
     ]
    }
   ],
   "source": [
    "from math import sqrt\n",
    "def calc():\n",
    "    num = eval(input(\"Enter the number : \"))\n",
    "    result = []\n",
    "    C = 50\n",
    "    H = 30\n",
    "    for i in num:\n",
    "        Q = str(int(sqrt((2*C*i)/H)))\n",
    "        result.append(Q)\n",
    "    print(\"result : {}\".format(','.join(result)))\n",
    "    \n",
    "calc()"
   ]
  },
  {
   "cell_type": "markdown",
   "id": "40bb0dbd",
   "metadata": {},
   "source": [
    "#### Question 2:\n",
    "Write a program which takes 2 digits, X,Y as input and generates a 2-dimensional array. The element value in the i-th row and j-th column of the array should be i*j.\n",
    "\n",
    "Note: i=0,1.., X-1; j=0,1,¡¬Y-1.\n",
    "\n",
    "Example\n",
    "\n",
    "Suppose the following inputs are given to the program:\n",
    "\n",
    "3,5\n",
    "\n",
    "Then, the output of the program should be:\n",
    "\n",
    "[[0, 0, 0, 0, 0], [0, 1, 2, 3, 4], [0, 2, 4, 6, 8]] \n"
   ]
  },
  {
   "cell_type": "code",
   "execution_count": 18,
   "id": "badd0a0d",
   "metadata": {},
   "outputs": [
    {
     "name": "stdout",
     "output_type": "stream",
     "text": [
      "Enter the value of x : 3\n",
      "Enter the value of y : 5\n"
     ]
    },
    {
     "data": {
      "text/plain": [
       "array([[0, 0, 0, 0, 0],\n",
       "       [0, 1, 2, 3, 4],\n",
       "       [0, 2, 4, 6, 8]])"
      ]
     },
     "execution_count": 18,
     "metadata": {},
     "output_type": "execute_result"
    }
   ],
   "source": [
    "import numpy as np\n",
    "x = int(input('Enter the value of x : '))\n",
    "y = int(input('Enter the value of y : '))\n",
    "\n",
    "a=np.fromfunction(lambda i,j : i*j, (x,y), dtype=int)\n",
    "a"
   ]
  },
  {
   "cell_type": "markdown",
   "id": "decba7d7",
   "metadata": {},
   "source": [
    "#### Question 3:\n",
    "Write a program that accepts a comma separated sequence of words as input and prints the words in a comma-separated sequence after sorting them alphabetically.\n",
    "\n",
    "Suppose the following input is supplied to the program:\n",
    "\n",
    "without,hello,bag,world\n",
    "\n",
    "Then, the output should be:\n",
    "\n",
    "bag,hello,without,world\n"
   ]
  },
  {
   "cell_type": "code",
   "execution_count": 21,
   "id": "8bca49cd",
   "metadata": {},
   "outputs": [
    {
     "name": "stdout",
     "output_type": "stream",
     "text": [
      "Enter the comma separated input : without,hello,bag,world\n",
      "bag,hello,without,world,"
     ]
    }
   ],
   "source": [
    "_string = input(\"Enter the comma separated input : \").split(\",\")\n",
    "_string.sort()\n",
    "for i in _string:\n",
    "    print(i, end=',')"
   ]
  },
  {
   "cell_type": "markdown",
   "id": "fb22995d",
   "metadata": {},
   "source": [
    "#### Question 4:\n",
    "Write a program that accepts a sequence of whitespace separated words as input and prints the words after removing all duplicate words and sorting them alphanumerically.\n",
    "\n",
    "Suppose the following input is supplied to the program:\n",
    "\n",
    "hello world and practice makes perfect and hello world again\n",
    "\n",
    "Then, the output should be:\n",
    "\n",
    "again and hello makes perfect practice world\n"
   ]
  },
  {
   "cell_type": "code",
   "execution_count": 24,
   "id": "e3acd961",
   "metadata": {},
   "outputs": [
    {
     "name": "stdout",
     "output_type": "stream",
     "text": [
      "Enter the input : hello world and practice makes perfect and hello world again\n",
      "\n",
      "again and hello makes perfect practice world "
     ]
    }
   ],
   "source": [
    "string = input(\"Enter the input : \").split(\" \")\n",
    "string.sort()\n",
    "temp =[]\n",
    "for i in string:\n",
    "    temp.append(i)\n",
    "\n",
    "aplhanum=[]\n",
    "for j in temp:\n",
    "    if j not in aplhanum:\n",
    "        aplhanum.append(j)\n",
    "print()        \n",
    "for k in aplhanum:\n",
    "    print(k, end=\" \")"
   ]
  },
  {
   "cell_type": "markdown",
   "id": "a94542a9",
   "metadata": {},
   "source": [
    "#### Question 5:\n",
    "Write a program that accepts a sentence and calculate the number of letters and digits.\n",
    "\n",
    "Suppose the following input is supplied to the program:\n",
    "\n",
    "hello world! 123\n",
    "\n",
    "Then, the output should be:\n",
    "\n",
    "LETTERS 10\n",
    "\n",
    "DIGITS 3\n"
   ]
  },
  {
   "cell_type": "code",
   "execution_count": 27,
   "id": "7d55b3c2",
   "metadata": {},
   "outputs": [
    {
     "name": "stdout",
     "output_type": "stream",
     "text": [
      "ENter a sentence : hello world! 123\n",
      "LETTERS 10 \n",
      "DIGITS 3\n"
     ]
    }
   ],
   "source": [
    "sentence = input(\"ENter a sentence : \")\n",
    "letters=0\n",
    "digits=0\n",
    "for i in sentence:\n",
    "    if i.isalpha():\n",
    "        letters+=1\n",
    "    elif i.isdigit():\n",
    "        digits+=1\n",
    "    else:\n",
    "        pass\n",
    "print(f\"LETTERS {letters} \\nDIGITS {digits}\")"
   ]
  },
  {
   "cell_type": "markdown",
   "id": "737ba84e",
   "metadata": {},
   "source": [
    "#### Question 6:\n",
    "A website requires the users to input username and password to register. Write a program to check the validity of password input by users.\n",
    "\n",
    "Following are the criteria for checking the password:\n",
    "\n",
    "1. At least 1 letter between [a-z]\n",
    "\n",
    "2. At least 1 number between [0-9]\n",
    "\n",
    "1. At least 1 letter between [A-Z]\n",
    "\n",
    "3. At least 1 character from [$#@]\n",
    "\n",
    "4. Minimum length of transaction password: 6\n",
    "\n",
    "5. Maximum length of transaction password: 12\n",
    "\n",
    "Your program should accept a sequence of comma separated passwords and will check them according to the above criteria. Passwords that match the criteria are to be printed, each separated by a comma.\n",
    "\n",
    "Example\n",
    "\n",
    "If the following passwords are given as input to the program:\n",
    "\n",
    "ABd1234@1,a F1#,2w3E*,2We3345\n",
    "\n",
    "Then, the output of the program should be:\n",
    "\n",
    "ABd1234@1\n"
   ]
  },
  {
   "cell_type": "code",
   "execution_count": 31,
   "id": "6d400582",
   "metadata": {},
   "outputs": [
    {
     "name": "stdout",
     "output_type": "stream",
     "text": [
      "Enter the password : \n",
      "ABd1234@1,a F1#,2w3E*,2We3345\n",
      "\n",
      "Correct password is : ABd1234@1\n"
     ]
    }
   ],
   "source": [
    "password = str(input(\"Enter the password : \\n\")).split(\",\")\n",
    "spl_char =[\"@\", \"#\", \"$\"]\n",
    "correct_password = []\n",
    "for i in password:\n",
    "    if (len(i)<6) or (len(i)>12):\n",
    "        continue\n",
    "    if i.isupper() or i.islower():\n",
    "        continue\n",
    "    num = any(j.isdigit for j in i)\n",
    "    if (not num):\n",
    "        continue\n",
    "    spl = any(j in spl_char for j in i)\n",
    "    if (not spl):\n",
    "        continue\n",
    "    correct_password.append(i)\n",
    "print()\n",
    "for k in correct_password:\n",
    "    \n",
    "    print(f\"Correct password is : {k}\")"
   ]
  },
  {
   "cell_type": "code",
   "execution_count": null,
   "id": "fcd0fcd3",
   "metadata": {},
   "outputs": [],
   "source": []
  },
  {
   "cell_type": "code",
   "execution_count": null,
   "id": "e80719f6",
   "metadata": {},
   "outputs": [],
   "source": []
  }
 ],
 "metadata": {
  "kernelspec": {
   "display_name": "Python 3 (ipykernel)",
   "language": "python",
   "name": "python3"
  },
  "language_info": {
   "codemirror_mode": {
    "name": "ipython",
    "version": 3
   },
   "file_extension": ".py",
   "mimetype": "text/x-python",
   "name": "python",
   "nbconvert_exporter": "python",
   "pygments_lexer": "ipython3",
   "version": "3.9.7"
  }
 },
 "nbformat": 4,
 "nbformat_minor": 5
}
