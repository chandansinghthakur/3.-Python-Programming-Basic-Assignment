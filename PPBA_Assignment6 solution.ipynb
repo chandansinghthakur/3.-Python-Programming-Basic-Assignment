{
 "cells": [
  {
   "cell_type": "markdown",
   "id": "8ac5a680",
   "metadata": {},
   "source": [
    "# 1.\tWrite a Python Program to Display Fibonacci Sequence Using Recursion?"
   ]
  },
  {
   "cell_type": "code",
   "execution_count": 15,
   "id": "1b3096f8",
   "metadata": {},
   "outputs": [
    {
     "name": "stdout",
     "output_type": "stream",
     "text": [
      "Enter the number of terms : 10\n",
      "Fibonacci sequence :\n",
      "0 1 1 2 3 5 8 13 21 34 "
     ]
    }
   ],
   "source": [
    "def rec_fibo(n):\n",
    "    if n<=1 :\n",
    "        return n\n",
    "    else:\n",
    "        return(rec_fibo(n-1) + rec_fibo(n-2))\n",
    "nterms = int(input(\"Enter the number of terms : \"))\n",
    "\n",
    "try:\n",
    "    if nterms <= 0:\n",
    "        print(\"Please enter positive integer\")\n",
    "    else:\n",
    "        print(\"Fibonacci sequence :\")\n",
    "        for i in range(nterms):\n",
    "            print(rec_fibo(i), end= \" \")\n",
    "    \n",
    "except Exception as e:\n",
    "    print(e)"
   ]
  },
  {
   "cell_type": "markdown",
   "id": "63a0bef9",
   "metadata": {},
   "source": [
    "# 2.\tWrite a Python Program to Find Factorial of Number Using Recursion?"
   ]
  },
  {
   "cell_type": "code",
   "execution_count": 20,
   "id": "e3da826b",
   "metadata": {},
   "outputs": [
    {
     "name": "stdout",
     "output_type": "stream",
     "text": [
      "Enter the positive number : 7\n",
      "The factorial of  7 is :  5040\n"
     ]
    }
   ],
   "source": [
    "def rec_fac(n):\n",
    "    if n==1:\n",
    "        return n\n",
    "    else :\n",
    "        return n*rec_fac(n-1)\n",
    "num = int(input(\"Enter the positive number : \"))\n",
    "if num <0:\n",
    "    print(\"Sorry....!!! factorial doesn't exist for negative number\")\n",
    "elif num == 0:\n",
    "    print(f\"The factorial of {num} is 1.\")\n",
    "else:\n",
    "    print(\"The factorial of \", num, \"is : \", rec_fac(num))"
   ]
  },
  {
   "cell_type": "markdown",
   "id": "a4f86cfd",
   "metadata": {},
   "source": [
    "# 3.\tWrite a Python Program to calculate your Body Mass Index?"
   ]
  },
  {
   "cell_type": "code",
   "execution_count": 25,
   "id": "20b5e295",
   "metadata": {},
   "outputs": [
    {
     "name": "stdout",
     "output_type": "stream",
     "text": [
      "Enter your height : 172\n",
      "Enter your weight : 72\n",
      "The BMI is 24.337479718766904\n",
      "You are healthy.\n"
     ]
    }
   ],
   "source": [
    "while True:\n",
    "    try:\n",
    "        height = float(input(\"Enter your height : \"))\n",
    "        weight = float(input(\"Enter your weight : \"))\n",
    "        if height>0 and weight>0:\n",
    "            BMI = weight/(height/100)**2\n",
    "            print(f\"The BMI is {BMI}\")\n",
    "            \n",
    "            if BMI <= 18.4 :\n",
    "                print(\"You are underweight.\")\n",
    "            elif BMI <= 24.9 :\n",
    "                print(\"You are healthy.\")\n",
    "            elif BMI <= 29.9 :\n",
    "                print(\"You are over weight.\")\n",
    "            elif BMI <= 34.9 :\n",
    "                print(\"You are severely over weight.\")\n",
    "            elif BMI <= 39.9 :\n",
    "                print(\"You are obese.\")\n",
    "            else:\n",
    "                print(\"You are severely obese.\")\n",
    "            break\n",
    "        print(\"please enter valid input\")\n",
    "            \n",
    "            \n",
    "            \n",
    "    except Exception as e:\n",
    "        print(e)"
   ]
  },
  {
   "cell_type": "markdown",
   "id": "e34cc563",
   "metadata": {},
   "source": [
    "# 4.\tWrite a Python Program to calculate the natural logarithm of any number?"
   ]
  },
  {
   "cell_type": "code",
   "execution_count": 34,
   "id": "d0487b0c",
   "metadata": {},
   "outputs": [
    {
     "name": "stdout",
     "output_type": "stream",
     "text": [
      "enter the number : 0\n",
      "The value of natual logrithm of  0  is Not defined\n"
     ]
    }
   ],
   "source": [
    "import numpy\n",
    "n = int(input(\"enter the number : \"))\n",
    "if n > 0:\n",
    "    x=numpy.log(n)\n",
    "    print(\"The value of natual logrithm of \",n, ' is ' ,x)\n",
    "else:\n",
    "    print(\"The value of natual logrithm of \",n, \" is Not defined\")"
   ]
  },
  {
   "cell_type": "markdown",
   "id": "2d9f1617",
   "metadata": {},
   "source": [
    "# 5.\tWrite a Python Program for cube sum of first n natural numbers?"
   ]
  },
  {
   "cell_type": "code",
   "execution_count": 27,
   "id": "8cbf2184",
   "metadata": {},
   "outputs": [
    {
     "name": "stdout",
     "output_type": "stream",
     "text": [
      "Enter the number : -45\n",
      "please enter natural number\n",
      "Enter the number : 5\n",
      "225\n"
     ]
    }
   ],
   "source": [
    "while True:\n",
    "    try:\n",
    "        n = int(input(\"Enter the number : \"))\n",
    "        if n > 0:\n",
    "            def func(n):\n",
    "                \"\"\"function to calculate the sum of cube of first n natural numbers\"\"\"\n",
    "                sum = 0\n",
    "                for i in range(1,n+1):\n",
    "                    sum += i*i*i\n",
    "                return sum\n",
    "            print(func(n))\n",
    "            break\n",
    "        print(\"please enter natural number\")\n",
    "    except Exception as e:\n",
    "        print(e)"
   ]
  },
  {
   "cell_type": "code",
   "execution_count": null,
   "id": "8d91275c",
   "metadata": {},
   "outputs": [],
   "source": []
  }
 ],
 "metadata": {
  "kernelspec": {
   "display_name": "Python 3 (ipykernel)",
   "language": "python",
   "name": "python3"
  },
  "language_info": {
   "codemirror_mode": {
    "name": "ipython",
    "version": 3
   },
   "file_extension": ".py",
   "mimetype": "text/x-python",
   "name": "python",
   "nbconvert_exporter": "python",
   "pygments_lexer": "ipython3",
   "version": "3.9.7"
  }
 },
 "nbformat": 4,
 "nbformat_minor": 5
}
