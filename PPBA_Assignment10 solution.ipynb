{
 "cells": [
  {
   "cell_type": "markdown",
   "id": "1a418705",
   "metadata": {},
   "source": [
    "## 1.\tWrite a Python program to find sum of elements in list?"
   ]
  },
  {
   "cell_type": "code",
   "execution_count": 12,
   "id": "a6ccd301",
   "metadata": {},
   "outputs": [
    {
     "name": "stdout",
     "output_type": "stream",
     "text": [
      "Enter the number of elements in list: [1,2,3,4,5]\n",
      "Sum of elements : 15\n"
     ]
    }
   ],
   "source": [
    "def sumoflist():\n",
    "    input_list = eval(input(\"Enter the number of elements in list: \"))\n",
    "    print(f\"Sum of elements : {sum(input_list)}\")\n",
    "    \n",
    "sumoflist()"
   ]
  },
  {
   "cell_type": "markdown",
   "id": "be121e65",
   "metadata": {},
   "source": [
    "## 2.\tWrite a Python program to  Multiply all numbers in the list?"
   ]
  },
  {
   "cell_type": "code",
   "execution_count": 11,
   "id": "6e661719",
   "metadata": {},
   "outputs": [
    {
     "name": "stdout",
     "output_type": "stream",
     "text": [
      "Enter the number of elements in list: [1,2,3,4,5]\n",
      "Multiply of elements : 120\n"
     ]
    }
   ],
   "source": [
    "def muloflist():\n",
    "    input_list = eval(input(\"Enter the number of elements in list: \"))\n",
    "    mul=1\n",
    "    for j in input_list:\n",
    "        mul *= j\n",
    "    print(f\"Multiply of elements : {mul}\")\n",
    "    \n",
    "muloflist()"
   ]
  },
  {
   "cell_type": "markdown",
   "id": "2e87a2e0",
   "metadata": {},
   "source": [
    "## 3.\tWrite a Python program to find smallest number in a list?"
   ]
  },
  {
   "cell_type": "code",
   "execution_count": 10,
   "id": "a6048ab9",
   "metadata": {},
   "outputs": [
    {
     "name": "stdout",
     "output_type": "stream",
     "text": [
      "Enter the number of elements in list: [3245,543,34253,23,23,42,2,342,545435,345,353]\n",
      "Smallest number in the list is 2\n"
     ]
    }
   ],
   "source": [
    "def minoflist():\n",
    "    input_list = eval(input(\"Enter the number of elements in list: \"))\n",
    "    print(f\"Smallest number in the list is {min(input_list)}\")\n",
    "    \n",
    "minoflist()"
   ]
  },
  {
   "cell_type": "markdown",
   "id": "2887e2ce",
   "metadata": {},
   "source": [
    "## 4.\tWrite a Python program to find largest number in a list?"
   ]
  },
  {
   "cell_type": "code",
   "execution_count": 9,
   "id": "549ee004",
   "metadata": {},
   "outputs": [
    {
     "name": "stdout",
     "output_type": "stream",
     "text": [
      "Enter the number of elements in list: [234,23,423,4234,25,435345,3356,45324,1245,24]\n",
      "Largest number in the list is 435345\n"
     ]
    }
   ],
   "source": [
    "def maxoflist():\n",
    "    input_list = eval(input(\"Enter the number of elements in list: \"))\n",
    "    print(f\"Largest number in the list is {max(input_list)}\")\n",
    "    \n",
    "maxoflist()"
   ]
  },
  {
   "cell_type": "markdown",
   "id": "fdbbbe5c",
   "metadata": {},
   "source": [
    "## 5.\tWrite a Python program to find second largest number in a list?"
   ]
  },
  {
   "cell_type": "code",
   "execution_count": 8,
   "id": "279b72bc",
   "metadata": {},
   "outputs": [
    {
     "name": "stdout",
     "output_type": "stream",
     "text": [
      "Enter the number of elements in list: [45, 78, 89, 56]\n",
      "Input list is : [45, 78, 89, 56]\n",
      "Second largest number in the list is 78\n"
     ]
    }
   ],
   "source": [
    "def S_maxoflist():\n",
    "    input_list = eval(input(\"Enter the number of elements in list: \"))\n",
    "    print(f'Input list is : {input_list}')\n",
    "    print(f\"Second largest number in the list is {sorted(input_list, reverse=True)[1]}\")\n",
    "    \n",
    "S_maxoflist()"
   ]
  },
  {
   "cell_type": "markdown",
   "id": "b961c0bd",
   "metadata": {},
   "source": [
    "## 6.\tWrite a Python program to find N largest elements from a list?"
   ]
  },
  {
   "cell_type": "code",
   "execution_count": 7,
   "id": "58656007",
   "metadata": {},
   "outputs": [
    {
     "name": "stdout",
     "output_type": "stream",
     "text": [
      "Enter the number of elements in list: [12,54,87,98,65,32,21,45,78]\n",
      "Input list is : [12, 54, 87, 98, 65, 32, 21, 45, 78]\n",
      "3 largest number in the list is [98, 87, 78]\n"
     ]
    }
   ],
   "source": [
    "def N_maxoflist(n):\n",
    "    input_list = eval(input(\"Enter the number of elements in list: \"))\n",
    "    print(f'Input list is : {input_list}')\n",
    "    print(f\"{n} largest number in the list is {sorted(input_list, reverse=True)[0:n]}\")\n",
    "    \n",
    "N_maxoflist(3)"
   ]
  },
  {
   "cell_type": "markdown",
   "id": "66f27e86",
   "metadata": {},
   "source": [
    "## 7.\tWrite a Python program to print even numbers in a list?"
   ]
  },
  {
   "cell_type": "code",
   "execution_count": 6,
   "id": "fac661e5",
   "metadata": {},
   "outputs": [
    {
     "name": "stdout",
     "output_type": "stream",
     "text": [
      "Enter the number of elements in list: [48, 79, 43, 15, 46]\n",
      "The input list is [48, 79, 43, 15, 46]\n",
      "The even numbers are [48, 46]\n"
     ]
    }
   ],
   "source": [
    "def evennumber():\n",
    "    input_list = eval(input(\"Enter the number of elements in list: \"))\n",
    "    even_list = []\n",
    "\n",
    "    for i in input_list:\n",
    "        if i%2==0:\n",
    "            even_list.append(i)\n",
    "    print(f\"The input list is {input_list}\")\n",
    "    print(f\"The even numbers are {even_list}\")\n",
    "evennumber()"
   ]
  },
  {
   "cell_type": "markdown",
   "id": "7b1fcc8e",
   "metadata": {},
   "source": [
    "## 8.\tWrite a Python program to print odd numbers in a List?"
   ]
  },
  {
   "cell_type": "code",
   "execution_count": 5,
   "id": "8ea83480",
   "metadata": {},
   "outputs": [
    {
     "name": "stdout",
     "output_type": "stream",
     "text": [
      "Enter the number of elements in list: [48, 79, 43, 15, 46]\n",
      "The input list is [48, 79, 43, 15, 46]\n",
      "The odd numbers are [79, 43, 15]\n"
     ]
    }
   ],
   "source": [
    "def oddnumber():\n",
    "    input_list = eval(input(\"Enter the number of elements in list: \"))\n",
    "    odd_list = []\n",
    "    for i in input_list:\n",
    "        if i%2!=0:\n",
    "            odd_list.append(i)\n",
    "    print(f\"The input list is {input_list}\")\n",
    "    print(f\"The odd numbers are {odd_list}\")\n",
    "oddnumber()"
   ]
  },
  {
   "cell_type": "markdown",
   "id": "6303e2f8",
   "metadata": {},
   "source": [
    "## 9.\tWrite a Python program to Remove empty List from List?"
   ]
  },
  {
   "cell_type": "code",
   "execution_count": 1,
   "id": "5fe3581c",
   "metadata": {},
   "outputs": [
    {
     "name": "stdout",
     "output_type": "stream",
     "text": [
      "Enter all the elements of list : [2,45,78,[],[45,78,98],[12,'chandan']]\n",
      "There is an empty list in [2, 45, 78, [], [45, 78, 98], [12, 'chandan']] at 3th position\n",
      "List after removing empty [] list [2, 45, 78, [45, 78, 98], [12, 'chandan']]\n"
     ]
    }
   ],
   "source": [
    "def R_emptylist():\n",
    "    input_list = eval(input(\"Enter all the elements of list : \"))\n",
    "    if [] in input_list:\n",
    "        print(f\"There is an empty list in {input_list} at {input_list.index([])}th position\")\n",
    "        input_list.remove([])\n",
    "        print(f\"List after removing empty [] list {input_list}\")\n",
    "    else:\n",
    "        print(f\"There is no empty list in the list{input_list}\")\n",
    "              \n",
    "R_emptylist()"
   ]
  },
  {
   "cell_type": "markdown",
   "id": "668e4d87",
   "metadata": {},
   "source": [
    "## 10.\tWrite a Python program to Cloning or Copying a list?"
   ]
  },
  {
   "cell_type": "code",
   "execution_count": 3,
   "id": "cf05a509",
   "metadata": {},
   "outputs": [
    {
     "name": "stdout",
     "output_type": "stream",
     "text": [
      "Enter all the elements of list : [12,54,87,98,65,32,21,45,78]\n",
      "[12, 54, 87, 98, 65, 32, 21, 45, 78] 1846878459776\n",
      "[12, 54, 87, 98, 65, 32, 21, 45, 78] 1846879259520\n"
     ]
    }
   ],
   "source": [
    "import copy\n",
    "\n",
    "def copy_list():\n",
    "    input_list = eval(input(\"Enter all the elements of list : \"))\n",
    "    print(input_list, id(input_list))\n",
    "    cl = input_list.copy()\n",
    "    print(cl, id(cl))\n",
    "copy_list()"
   ]
  },
  {
   "cell_type": "markdown",
   "id": "cefc4eca",
   "metadata": {},
   "source": [
    "## 11.\tWrite a Python program to Count occurrences of an element in a list?"
   ]
  },
  {
   "cell_type": "code",
   "execution_count": 23,
   "id": "3c2d887a",
   "metadata": {},
   "outputs": [
    {
     "name": "stdout",
     "output_type": "stream",
     "text": [
      "Enter all the elements of list : [1,1,2,3,4,5]\n",
      "Enter the element to find : 1\n",
      "The entered list is [1, 1, 2, 3, 4, 5]\n",
      "There are 2 occurences of 1 in [1, 1, 2, 3, 4, 5]\n"
     ]
    }
   ],
   "source": [
    "def count_ele():\n",
    "    input_list = eval(input(\"Enter all the elements of list : \"))\n",
    "    num = eval(input(\"Enter the element to find : \"))\n",
    "#     print(f'The entered list is {input_list}')\n",
    "    count=0\n",
    "    if num in input_list:\n",
    "        for i in input_list:\n",
    "            if i == num:\n",
    "                count += 1\n",
    "    print(f\"There are {count} occurences of {num} in {input_list}\")\n",
    "    \n",
    "count_ele()"
   ]
  },
  {
   "cell_type": "code",
   "execution_count": null,
   "id": "966a447e",
   "metadata": {},
   "outputs": [],
   "source": []
  }
 ],
 "metadata": {
  "kernelspec": {
   "display_name": "Python 3 (ipykernel)",
   "language": "python",
   "name": "python3"
  },
  "language_info": {
   "codemirror_mode": {
    "name": "ipython",
    "version": 3
   },
   "file_extension": ".py",
   "mimetype": "text/x-python",
   "name": "python",
   "nbconvert_exporter": "python",
   "pygments_lexer": "ipython3",
   "version": "3.9.7"
  }
 },
 "nbformat": 4,
 "nbformat_minor": 5
}
