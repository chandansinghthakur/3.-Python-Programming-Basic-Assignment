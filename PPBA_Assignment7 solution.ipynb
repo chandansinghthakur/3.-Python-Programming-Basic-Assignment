{
 "cells": [
  {
   "cell_type": "markdown",
   "id": "5d979326",
   "metadata": {},
   "source": [
    "## 1.\tWrite a Python Program to find sum of array?"
   ]
  },
  {
   "cell_type": "code",
   "execution_count": 7,
   "id": "d36ec568",
   "metadata": {},
   "outputs": [
    {
     "name": "stdout",
     "output_type": "stream",
     "text": [
      "Enter the lenght of array : 4\n",
      "12\n",
      "14\n",
      "16\n",
      "18\n",
      "input array : [12, 14, 16, 18] \n",
      "And sum of given array is : 60\n"
     ]
    }
   ],
   "source": [
    "array = []\n",
    "a = int(input(\"Enter the lenght of array : \"))\n",
    "for i in range(a):\n",
    "    ele = int(input())\n",
    "    array.append(ele)\n",
    "print(f\"input array : {array} \\nAnd sum of given array is : {sum(array)}\")"
   ]
  },
  {
   "cell_type": "markdown",
   "id": "9f6dff90",
   "metadata": {},
   "source": [
    "## 2.\tWrite a Python Program to find largest element in an array?"
   ]
  },
  {
   "cell_type": "code",
   "execution_count": 8,
   "id": "c3c1907a",
   "metadata": {},
   "outputs": [
    {
     "name": "stdout",
     "output_type": "stream",
     "text": [
      "Enter the lenght of array : 4\n",
      "12\n",
      "45\n",
      "78\n",
      "10\n",
      "input array : [12, 45, 78, 10] \n",
      "And sum of given array is : 78\n"
     ]
    }
   ],
   "source": [
    "array = []\n",
    "a = int(input(\"Enter the lenght of array : \"))\n",
    "for i in range(a):\n",
    "    ele = int(input())\n",
    "    array.append(ele)\n",
    "print(f\"input array : {array} \\nAnd sum of given array is : {max(array)}\")"
   ]
  },
  {
   "cell_type": "markdown",
   "id": "a62a3293",
   "metadata": {},
   "source": [
    "## 3.\tWrite a Python Program for array rotation?"
   ]
  },
  {
   "cell_type": "code",
   "execution_count": 9,
   "id": "d327be45",
   "metadata": {},
   "outputs": [
    {
     "name": "stdout",
     "output_type": "stream",
     "text": [
      "Enter the lenght of array : 4\n",
      "12\n",
      "45\n",
      "78\n",
      "56\n",
      "input array : [12, 45, 78, 56] \n",
      "And sum of given array is : [56, 78, 45, 12]\n"
     ]
    }
   ],
   "source": [
    "array = []\n",
    "a = int(input(\"Enter the lenght of array : \"))\n",
    "for i in range(a):\n",
    "    ele = int(input())\n",
    "    array.append(ele)\n",
    "print(f\"input array : {array} \\nAnd sum of given array is : {array[::-1]}\")"
   ]
  },
  {
   "cell_type": "markdown",
   "id": "cf753959",
   "metadata": {},
   "source": [
    "## 4.\tWrite a Python Program to Split the array and add the first part to the end?"
   ]
  },
  {
   "cell_type": "code",
   "execution_count": 10,
   "id": "f21b2289",
   "metadata": {},
   "outputs": [
    {
     "name": "stdout",
     "output_type": "stream",
     "text": [
      "Enter the lenght of array : 5\n",
      "1\n",
      "2\n",
      "3\n",
      "4\n",
      "5\n",
      "[1, 2, 3, 4, 5]\n",
      "Splitted first half of array :  [1, 2]\n",
      "Splitted last half of array :  [3, 4, 5]\n",
      "Final array :  [1, 2, 3, 4, 5]\n"
     ]
    }
   ],
   "source": [
    "array = []\n",
    "a = int(input(\"Enter the lenght of array : \"))\n",
    "for i in range(a):\n",
    "    ele = int(input())\n",
    "    array.append(ele)\n",
    "print(array)\n",
    "\n",
    "split_mid = a//2\n",
    "\n",
    "first_half = array[:split_mid]\n",
    "print(\"Splitted first half of array : \", first_half)\n",
    "\n",
    "last_half = array[split_mid:]\n",
    "print(\"Splitted last half of array : \", last_half)\n",
    "\n",
    "array = first_half + last_half\n",
    "print(\"Final array : \",array)"
   ]
  },
  {
   "cell_type": "markdown",
   "id": "a900bf8b",
   "metadata": {},
   "source": [
    "## 5.\tWrite a Python Program to check if given array is Monotonic?"
   ]
  },
  {
   "cell_type": "code",
   "execution_count": 15,
   "id": "682d3925",
   "metadata": {},
   "outputs": [
    {
     "name": "stdout",
     "output_type": "stream",
     "text": [
      "Enter the lenght of array : 4\n",
      "45\n",
      "11\n",
      "78\n",
      "7\n",
      "[45, 11, 78, 7]\n",
      "False\n"
     ]
    }
   ],
   "source": [
    "def monotonic(array):\n",
    "    return(all(array[i]<=array[i+1] for i in range(len(array)-1)) or\n",
    "           all(array[i]>=array[i+1] for i in range(len(array)-1)))\n",
    "\n",
    "array = []\n",
    "a = int(input(\"Enter the lenght of array : \"))\n",
    "for i in range(a):\n",
    "    ele = int(input())\n",
    "    array.append(ele)\n",
    "print(array)\n",
    "\n",
    "print(monotonic(array))"
   ]
  },
  {
   "cell_type": "code",
   "execution_count": null,
   "id": "b79f35bc",
   "metadata": {},
   "outputs": [],
   "source": []
  }
 ],
 "metadata": {
  "kernelspec": {
   "display_name": "Python 3 (ipykernel)",
   "language": "python",
   "name": "python3"
  },
  "language_info": {
   "codemirror_mode": {
    "name": "ipython",
    "version": 3
   },
   "file_extension": ".py",
   "mimetype": "text/x-python",
   "name": "python",
   "nbconvert_exporter": "python",
   "pygments_lexer": "ipython3",
   "version": "3.9.7"
  }
 },
 "nbformat": 4,
 "nbformat_minor": 5
}
