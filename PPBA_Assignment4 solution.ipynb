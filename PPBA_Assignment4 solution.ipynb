{
 "cells": [
  {
   "cell_type": "markdown",
   "id": "051b18f2",
   "metadata": {},
   "source": [
    "# 1.\tWrite a Python Program to Find the Factorial of a Number?"
   ]
  },
  {
   "cell_type": "code",
   "execution_count": 1,
   "id": "d9ad9975",
   "metadata": {},
   "outputs": [
    {
     "name": "stdout",
     "output_type": "stream",
     "text": [
      "Please enter a number : -78\n",
      "Sorry factorial doesn't exist for negative number, Please enter valid number. \n",
      "Please enter a number : 5\n",
      "The factorial of 5 is 120.\n"
     ]
    }
   ],
   "source": [
    "while True:\n",
    "    try:\n",
    "        num = int(input(\"Please enter a number : \"))\n",
    "        factorial = 1\n",
    "        if num>=0:\n",
    "            if num == 0:\n",
    "                print(\"Factorial of 0 is 1.\")\n",
    "            elif num>0:\n",
    "                for i in range(1,num+1):\n",
    "                    factorial = factorial*i\n",
    "                print(f\"The factorial of {num} is {factorial}.\")\n",
    "            break\n",
    "        print(\"Sorry factorial doesn't exist for negative number, Please enter valid number. \")\n",
    "    except Exception as e:\n",
    "        print(e)"
   ]
  },
  {
   "cell_type": "markdown",
   "id": "a42f0eb3",
   "metadata": {},
   "source": [
    "# 2.\tWrite a Python Program to Display the multiplication Table?"
   ]
  },
  {
   "cell_type": "code",
   "execution_count": 2,
   "id": "7fa064fa",
   "metadata": {},
   "outputs": [
    {
     "name": "stdout",
     "output_type": "stream",
     "text": [
      "Please enter a number : -12\n",
      "Please enter the valid number.\n",
      "Please enter a number : 5\n",
      "5 x 1 = 5\n",
      "5 x 2 = 10\n",
      "5 x 3 = 15\n",
      "5 x 4 = 20\n",
      "5 x 5 = 25\n",
      "5 x 6 = 30\n",
      "5 x 7 = 35\n",
      "5 x 8 = 40\n",
      "5 x 9 = 45\n",
      "5 x 10 = 50\n"
     ]
    }
   ],
   "source": [
    "while True:\n",
    "    try:\n",
    "        n = int(input(\"Please enter a number : \"))\n",
    "        if n > 0:\n",
    "            for i in range(1,11):\n",
    "                print(f\"{n} x {i} = {n*i}\")\n",
    "            break\n",
    "        print(\"Please enter the valid number.\")\n",
    "    except Exception as e:\n",
    "        print(e)"
   ]
  },
  {
   "cell_type": "markdown",
   "id": "7c19bfe0",
   "metadata": {},
   "source": [
    "# 3.\tWrite a Python Program to Print the Fibonacci sequence?"
   ]
  },
  {
   "cell_type": "code",
   "execution_count": 4,
   "id": "a3be0957",
   "metadata": {},
   "outputs": [
    {
     "name": "stdout",
     "output_type": "stream",
     "text": [
      "Please enter the number of terms: -12\n",
      "Please enter the positive number\n",
      "Please enter the number of terms: 15\n",
      "Fibonacci sequence : \n",
      "0 1 1 2 3 5 8 13 21 34 55 89 144 233 377 "
     ]
    }
   ],
   "source": [
    "while True:\n",
    "    try:\n",
    "        nterms = int(input(\"Please enter the number of terms: \"))\n",
    "        a=0\n",
    "        b=1\n",
    "        count=0\n",
    "        if nterms >=0:\n",
    "            if nterms == 1:\n",
    "                print(f\"The Fibonacci sequence upto {nterms} is {a}\")\n",
    "            else:\n",
    "                print(f\"Fibonacci sequence : \")\n",
    "                while count<nterms:\n",
    "                    \n",
    "                    print(a, end=\" \")\n",
    "                    s = a+b\n",
    "                    a=b\n",
    "                    b=s\n",
    "                    count+=1\n",
    "            break\n",
    "        print(\"Please enter the positive number\")\n",
    "    except Exception as e:\n",
    "        print(e)\n",
    "        "
   ]
  },
  {
   "cell_type": "markdown",
   "id": "fc81e265",
   "metadata": {},
   "source": [
    "# 4.\tWrite a Python Program to Check Armstrong Number?"
   ]
  },
  {
   "cell_type": "code",
   "execution_count": 1,
   "id": "4ed8dacd",
   "metadata": {},
   "outputs": [
    {
     "name": "stdout",
     "output_type": "stream",
     "text": [
      "Please enter a number: 407\n",
      "407  is an Armstrong number.\n"
     ]
    }
   ],
   "source": [
    "while True:\n",
    "    try:\n",
    "        num = int(input(\"Please enter a number: \"))\n",
    "        if num > 0:\n",
    "            sum = 0\n",
    "            temp = num\n",
    "            while temp > 0 :\n",
    "                digit = temp % 10\n",
    "                sum += digit**3\n",
    "                temp //=10\n",
    "            if num==sum:\n",
    "                print(num, \" is an Armstrong number.\")\n",
    "            else:\n",
    "                print(num, \" is not an Armstrong number.\")\n",
    "            break\n",
    "        print(\"Please enter the positive number\")\n",
    "    except Exception as e:\n",
    "        print(e)"
   ]
  },
  {
   "cell_type": "markdown",
   "id": "422ae269",
   "metadata": {},
   "source": [
    "# 5.\tWrite a Python Program to Find Armstrong Number in an Interval?"
   ]
  },
  {
   "cell_type": "code",
   "execution_count": 3,
   "id": "07ffc3d4",
   "metadata": {},
   "outputs": [
    {
     "name": "stdout",
     "output_type": "stream",
     "text": [
      "Enter the lower limit: 100\n",
      "Enter the upper limit: 2000\n",
      "153\n",
      "370\n",
      "371\n",
      "407\n",
      "1634\n"
     ]
    }
   ],
   "source": [
    "while True:\n",
    "    try:\n",
    "        lower_num = int(input(\"Enter the lower limit: \"))\n",
    "        upper_num = int(input(\"Enter the upper limit: \"))\n",
    "        if lower_num > 0 and upper_num > 0:\n",
    "            \n",
    "            for i in range(lower_num, upper_num+1):\n",
    "                order = len(str(i))\n",
    "                sum=0\n",
    "                temp=i\n",
    "                while temp>0:\n",
    "                    digit = temp%10\n",
    "                    sum += digit**order\n",
    "                    temp //= 10\n",
    "                if i == sum:\n",
    "                    print(i)\n",
    "            break\n",
    "        print(\"One of your input is not valid\")\n",
    "    except Exception as e:\n",
    "        print(e)"
   ]
  },
  {
   "cell_type": "markdown",
   "id": "bfc69f70",
   "metadata": {},
   "source": [
    "# 6.\tWrite a Python Program to Find the Sum of Natural Numbers?"
   ]
  },
  {
   "cell_type": "code",
   "execution_count": 2,
   "id": "532b5cab",
   "metadata": {},
   "outputs": [
    {
     "name": "stdout",
     "output_type": "stream",
     "text": [
      "Please enter the natural number : sag\n",
      "invalid literal for int() with base 10: 'sag'\n",
      "Please enter the natural number : -85\n",
      "Please enter the valid \n",
      "Please enter the natural number : \n",
      "invalid literal for int() with base 10: ''\n",
      "Please enter the natural number : 25\n",
      "Sum of 25 natural number is 325\n"
     ]
    }
   ],
   "source": [
    "while True:\n",
    "    try:\n",
    "        num = int(input(\"Please enter the natural number : \"))\n",
    "        if num>0:\n",
    "            sum = 0\n",
    "            for i in range(1,num+1):\n",
    "                sum += i \n",
    "            print(f\"Sum of {num} natural number is {sum}\")\n",
    "            break\n",
    "        print(\"Please enter the valid \")\n",
    "    except Exception as e:\n",
    "        print(e)"
   ]
  },
  {
   "cell_type": "code",
   "execution_count": 10,
   "id": "3a55586f",
   "metadata": {},
   "outputs": [],
   "source": []
  },
  {
   "cell_type": "code",
   "execution_count": null,
   "id": "78244d19",
   "metadata": {},
   "outputs": [],
   "source": []
  },
  {
   "cell_type": "code",
   "execution_count": null,
   "id": "506043e3",
   "metadata": {},
   "outputs": [],
   "source": []
  }
 ],
 "metadata": {
  "kernelspec": {
   "display_name": "Python 3 (ipykernel)",
   "language": "python",
   "name": "python3"
  },
  "language_info": {
   "codemirror_mode": {
    "name": "ipython",
    "version": 3
   },
   "file_extension": ".py",
   "mimetype": "text/x-python",
   "name": "python",
   "nbconvert_exporter": "python",
   "pygments_lexer": "ipython3",
   "version": "3.9.7"
  }
 },
 "nbformat": 4,
 "nbformat_minor": 5
}
