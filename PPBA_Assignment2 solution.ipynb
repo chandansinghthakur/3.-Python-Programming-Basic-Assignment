{
 "cells": [
  {
   "cell_type": "markdown",
   "id": "ca32be36",
   "metadata": {},
   "source": [
    "# 1.\tWrite a Python program to convert kilometers to miles?"
   ]
  },
  {
   "cell_type": "code",
   "execution_count": 5,
   "id": "ce67b8d3",
   "metadata": {},
   "outputs": [
    {
     "name": "stdout",
     "output_type": "stream",
     "text": [
      "Enter no. of kilometers :  10\n",
      "10.0 is equal to 6.21 miles.\n"
     ]
    }
   ],
   "source": [
    "def KmtoMiles():\n",
    "    km= float(input(\"Enter no. of kilometers :  \"))\n",
    "    print(f\"{km} is equal to {km*0.62}1 miles.\")\n",
    "\n",
    "KmtoMiles()"
   ]
  },
  {
   "cell_type": "markdown",
   "id": "896dc0f1",
   "metadata": {},
   "source": [
    "# 2.\tWrite a Python program to convert Celsius to Fahrenheit?"
   ]
  },
  {
   "cell_type": "code",
   "execution_count": 12,
   "id": "ef9011fb",
   "metadata": {},
   "outputs": [
    {
     "name": "stdout",
     "output_type": "stream",
     "text": [
      "Enter the temperature in celsius: 100\n",
      "100°C = 212.0°F\n"
     ]
    }
   ],
   "source": [
    "def CelsiustoFah():\n",
    "    tc = int(input(\"Enter the temperature in celsius: \"))\n",
    "    tf = (tc*(9/5))+32\n",
    "    print(f\"{tc}\\u00B0C = {tf}\\u00B0F\")\n",
    "CelsiustoFah()"
   ]
  },
  {
   "cell_type": "markdown",
   "id": "7d9071e2",
   "metadata": {},
   "source": [
    "# 3.\tWrite a Python program to display calendar?"
   ]
  },
  {
   "cell_type": "code",
   "execution_count": 13,
   "id": "f583865b",
   "metadata": {},
   "outputs": [
    {
     "name": "stdout",
     "output_type": "stream",
     "text": [
      "Enter calendar year : 2022\n",
      "                                  2022\n",
      "\n",
      "      January                   February                   March\n",
      "Mo Tu We Th Fr Sa Su      Mo Tu We Th Fr Sa Su      Mo Tu We Th Fr Sa Su\n",
      "                1  2          1  2  3  4  5  6          1  2  3  4  5  6\n",
      " 3  4  5  6  7  8  9       7  8  9 10 11 12 13       7  8  9 10 11 12 13\n",
      "10 11 12 13 14 15 16      14 15 16 17 18 19 20      14 15 16 17 18 19 20\n",
      "17 18 19 20 21 22 23      21 22 23 24 25 26 27      21 22 23 24 25 26 27\n",
      "24 25 26 27 28 29 30      28                        28 29 30 31\n",
      "31\n",
      "\n",
      "       April                      May                       June\n",
      "Mo Tu We Th Fr Sa Su      Mo Tu We Th Fr Sa Su      Mo Tu We Th Fr Sa Su\n",
      "             1  2  3                         1             1  2  3  4  5\n",
      " 4  5  6  7  8  9 10       2  3  4  5  6  7  8       6  7  8  9 10 11 12\n",
      "11 12 13 14 15 16 17       9 10 11 12 13 14 15      13 14 15 16 17 18 19\n",
      "18 19 20 21 22 23 24      16 17 18 19 20 21 22      20 21 22 23 24 25 26\n",
      "25 26 27 28 29 30         23 24 25 26 27 28 29      27 28 29 30\n",
      "                          30 31\n",
      "\n",
      "        July                     August                  September\n",
      "Mo Tu We Th Fr Sa Su      Mo Tu We Th Fr Sa Su      Mo Tu We Th Fr Sa Su\n",
      "             1  2  3       1  2  3  4  5  6  7                1  2  3  4\n",
      " 4  5  6  7  8  9 10       8  9 10 11 12 13 14       5  6  7  8  9 10 11\n",
      "11 12 13 14 15 16 17      15 16 17 18 19 20 21      12 13 14 15 16 17 18\n",
      "18 19 20 21 22 23 24      22 23 24 25 26 27 28      19 20 21 22 23 24 25\n",
      "25 26 27 28 29 30 31      29 30 31                  26 27 28 29 30\n",
      "\n",
      "      October                   November                  December\n",
      "Mo Tu We Th Fr Sa Su      Mo Tu We Th Fr Sa Su      Mo Tu We Th Fr Sa Su\n",
      "                1  2          1  2  3  4  5  6                1  2  3  4\n",
      " 3  4  5  6  7  8  9       7  8  9 10 11 12 13       5  6  7  8  9 10 11\n",
      "10 11 12 13 14 15 16      14 15 16 17 18 19 20      12 13 14 15 16 17 18\n",
      "17 18 19 20 21 22 23      21 22 23 24 25 26 27      19 20 21 22 23 24 25\n",
      "24 25 26 27 28 29 30      28 29 30                  26 27 28 29 30 31\n",
      "31\n",
      "\n"
     ]
    }
   ],
   "source": [
    "import calendar\n",
    "\n",
    "def showcal():\n",
    "    year = int(input(\"Enter calendar year : \"))\n",
    "    print(calendar.calendar(year))\n",
    "showcal()"
   ]
  },
  {
   "cell_type": "markdown",
   "id": "77b92e8c",
   "metadata": {},
   "source": [
    "# 4.\tWrite a Python program to solve quadratic equation?"
   ]
  },
  {
   "cell_type": "code",
   "execution_count": 19,
   "id": "0d5c84c6",
   "metadata": {},
   "outputs": [
    {
     "name": "stdout",
     "output_type": "stream",
     "text": [
      "Enter a value : 4\n",
      "Enter b value : 2\n",
      "Enter c value : 5\n",
      "Roots are imaginary :  (-0.25-1.0897247358851685j) (-0.25+1.0897247358851685j)\n"
     ]
    }
   ],
   "source": [
    "import cmath\n",
    "import math\n",
    "\n",
    "def exp(a,b,c):\n",
    "    discriminent = (b**2)-(4*a*c)\n",
    "    \n",
    "    if discriminent == 0:\n",
    "        r1 = -b/2*a\n",
    "        r2 = -b/2*a\n",
    "        print(\"Roots are real and equal : \", r1,r2)\n",
    "    elif discriminent > 0:\n",
    "        r1 = (-b-math.sqrt(discriminent))/(2*a)\n",
    "        r2 = (-b+math.sqrt(discriminent))/(2*a)\n",
    "        print(\"Roots are real and different : \", r1,r2)\n",
    "    else:\n",
    "        r1 = (-b-cmath.sqrt(discriminent))/(2*a)\n",
    "        r2 = (-b+cmath.sqrt(discriminent))/(2*a)\n",
    "        print(\"Roots are imaginary : \",r1,r2)\n",
    "        \n",
    "a = int(input(\"Enter a value : \"))\n",
    "b = int(input(\"Enter b value : \"))\n",
    "c = int(input(\"Enter c value : \"))\n",
    "\n",
    "exp(a,b,c)"
   ]
  },
  {
   "cell_type": "markdown",
   "id": "803bdd9d",
   "metadata": {},
   "source": [
    "# 5.\tWrite a Python program to swap two variables without temp variable?"
   ]
  },
  {
   "cell_type": "code",
   "execution_count": 20,
   "id": "1d9a2567",
   "metadata": {},
   "outputs": [
    {
     "name": "stdout",
     "output_type": "stream",
     "text": [
      "Enter 1st number :  10\n",
      "Enter 2nd number :  100\n",
      "Before swapping a = 10 , b = 100\n",
      "After swapping a=100, b=10\n"
     ]
    }
   ],
   "source": [
    "n1 = int(input(\"Enter 1st number :  \"))\n",
    "n2 = int(input(\"Enter 2nd number :  \"))\n",
    "\n",
    "def swapvar1(n1,n2):\n",
    "    print(f\"Before swapping a = {n1} , b = {n2}\")\n",
    "    n1 = n1+n2\n",
    "    n2 = n1-n2\n",
    "    n1 = n1-n2\n",
    "    print(f\"After swapping a={n1}, b={n2}\")\n",
    "    \n",
    "swapvar1(n1,n2)"
   ]
  },
  {
   "cell_type": "code",
   "execution_count": null,
   "id": "96e4da8f",
   "metadata": {},
   "outputs": [],
   "source": []
  }
 ],
 "metadata": {
  "kernelspec": {
   "display_name": "Python 3 (ipykernel)",
   "language": "python",
   "name": "python3"
  },
  "language_info": {
   "codemirror_mode": {
    "name": "ipython",
    "version": 3
   },
   "file_extension": ".py",
   "mimetype": "text/x-python",
   "name": "python",
   "nbconvert_exporter": "python",
   "pygments_lexer": "ipython3",
   "version": "3.9.7"
  }
 },
 "nbformat": 4,
 "nbformat_minor": 5
}
