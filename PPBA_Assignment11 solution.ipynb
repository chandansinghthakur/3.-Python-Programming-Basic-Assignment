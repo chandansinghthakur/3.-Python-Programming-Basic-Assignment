{
 "cells": [
  {
   "cell_type": "markdown",
   "id": "da0704b9",
   "metadata": {},
   "source": [
    "### 1.\tWrite a Python program to find words which are greater than given length k?"
   ]
  },
  {
   "cell_type": "code",
   "execution_count": 12,
   "id": "0db3b55b",
   "metadata": {},
   "outputs": [
    {
     "name": "stdout",
     "output_type": "stream",
     "text": [
      "Enter the string : my name is chandan singh thakur\n",
      "Enter the length of string : 3\n",
      "name chandan singh thakur\n",
      "['name', 'chandan', 'singh', 'thakur']\n"
     ]
    }
   ],
   "source": [
    "def checklenghthofstring():\n",
    "    in_string = input(\"Enter the string : \")\n",
    "    in_length = int(input(\"Enter the length of string : \"))\n",
    "    out_string = []\n",
    "    for string in in_string.split(\" \"):\n",
    "        if len(string) > in_length:\n",
    "            out_string.append(string)\n",
    "#     print(\" \".join(out_string))\n",
    "    print(out_string)\n",
    "    \n",
    "checklenghthofstring()"
   ]
  },
  {
   "cell_type": "markdown",
   "id": "2f6458c6",
   "metadata": {},
   "source": [
    "### 2.\tWrite a Python program for removing i-th character from a string?"
   ]
  },
  {
   "cell_type": "code",
   "execution_count": 14,
   "id": "e35d6ac6",
   "metadata": {},
   "outputs": [
    {
     "name": "stdout",
     "output_type": "stream",
     "text": [
      "Enter the string : my name isc chandan singh thakur\n",
      "Enter the i-th character : 10\n",
      "my name is chandan singh thakur\n"
     ]
    }
   ],
   "source": [
    "def removeCharacter():\n",
    "    in_string = input(\"Enter the string : \")\n",
    "    in_ith_char = int(input(\"Enter the i-th character : \"))\n",
    "    out_string = ''\n",
    "    for char in range(len(in_string)):\n",
    "        if char != in_ith_char:\n",
    "            out_string += in_string[char]\n",
    "    print(out_string)\n",
    "    \n",
    "removeCharacter()"
   ]
  },
  {
   "cell_type": "markdown",
   "id": "3f79ba6b",
   "metadata": {},
   "source": [
    "### 3.\tWrite a Python program to split and join a string?"
   ]
  },
  {
   "cell_type": "code",
   "execution_count": 19,
   "id": "554dbb2e",
   "metadata": {},
   "outputs": [
    {
     "name": "stdout",
     "output_type": "stream",
     "text": [
      "Enter the string : my name is chandan singh thakur\n",
      "Split string :  ['my', 'name', 'is', 'chandan', 'singh', 'thakur']\n",
      "Join string :  my name is chandan singh thakur\n"
     ]
    }
   ],
   "source": [
    "def split_join_string():\n",
    "    in_string = input(\"Enter the string : \")\n",
    "    splt = in_string.split()\n",
    "    print(\"Split string : \",splt)\n",
    "    jn = ' '.join(splt)\n",
    "    print(\"Join string : \",jn)\n",
    "    \n",
    "split_join_string()"
   ]
  },
  {
   "cell_type": "markdown",
   "id": "7274fe26",
   "metadata": {},
   "source": [
    "### 4.\tWrite a Python to check if a given string is binary string or not?"
   ]
  },
  {
   "cell_type": "code",
   "execution_count": 22,
   "id": "b09d995b",
   "metadata": {},
   "outputs": [
    {
     "name": "stdout",
     "output_type": "stream",
     "text": [
      "Enter the string  :  101011110\n",
      "101011110 is binary.\n"
     ]
    }
   ],
   "source": [
    "def binaryCheck():\n",
    "    in_string = input(\"Enter the string  :  \")\n",
    "    arrange = set(in_string)\n",
    "    binary = {'0', '1'}\n",
    "    if binary==arrange or arrange=={'0'} or arrange=={'1'}:\n",
    "        print(f\"{in_string} is binary.\")\n",
    "    else:\n",
    "        print(f\"{in_string} is NOT binary\")\n",
    "\n",
    "binaryCheck()"
   ]
  },
  {
   "cell_type": "markdown",
   "id": "315e0cba",
   "metadata": {},
   "source": [
    "### 5.\tWrite a Python program to find uncommon words from two Strings?"
   ]
  },
  {
   "cell_type": "code",
   "execution_count": 24,
   "id": "ed647146",
   "metadata": {},
   "outputs": [
    {
     "name": "stdout",
     "output_type": "stream",
     "text": [
      "Enter the 1st string  :  my name is chandan singh thakur\n",
      "Enter the 2nd string  :  my name is vaishnavi singh thakur\n",
      "The uncommon words from the given strings are : ['chandan', 'vaishnavi']\n"
     ]
    }
   ],
   "source": [
    "def uncommonWord():\n",
    "    string_1 = str(input(\"Enter the 1st string  :  \"))\n",
    "    string_2 = str(input(\"Enter the 2nd string  :  \"))\n",
    "    UC = []\n",
    "    a = string_1.split()\n",
    "    b = string_2.split()\n",
    "\n",
    "    for i in a:\n",
    "        if i not in b:\n",
    "            UC.append(i)\n",
    "    for j in b:\n",
    "        if j not in a:\n",
    "            UC.append(j)\n",
    "    print(f\"The uncommon words from the given strings are : {UC}\")\n",
    "\n",
    "uncommonWord()"
   ]
  },
  {
   "cell_type": "markdown",
   "id": "22ccb6db",
   "metadata": {},
   "source": [
    "### 6.\tWrite a Python to find all duplicate characters in string?"
   ]
  },
  {
   "cell_type": "code",
   "execution_count": 25,
   "id": "f0635478",
   "metadata": {},
   "outputs": [
    {
     "name": "stdout",
     "output_type": "stream",
     "text": [
      "Enter the string  :  my name is chandan singh thakur\n",
      "Duplicate characters are : ['m', ' ', 'i', 'n', 'h', 'a', 's']\n"
     ]
    }
   ],
   "source": [
    "def duplicateChar():\n",
    "    in_string = input(\"Enter the string  :  \")\n",
    "    dpl = []\n",
    "    ndpl = []\n",
    "    for i in in_string:\n",
    "        if i not in ndpl:\n",
    "            ndpl.append(i)\n",
    "        else:\n",
    "            dpl.append(i)\n",
    "    print(f\"Duplicate characters are : {list(set(dpl))}\")\n",
    "\n",
    "duplicateChar()"
   ]
  },
  {
   "cell_type": "markdown",
   "id": "226b6d38",
   "metadata": {},
   "source": [
    "### 7.\tWrite a Python Program to check if a string contains any special character?"
   ]
  },
  {
   "cell_type": "code",
   "execution_count": 26,
   "id": "45b54262",
   "metadata": {},
   "outputs": [
    {
     "name": "stdout",
     "output_type": "stream",
     "text": [
      "Enter the string :  my name %$^% ch%^$and&%an s;i'n.g\\h\n",
      "There are 12 special characters in my name %$^% ch%^$and&%an s;i'n.g\\h which are ['%', '$', '^', '%', '%', '^', '$', '&', '%', ';', '.', '\\\\']\n"
     ]
    }
   ],
   "source": [
    "def checkSpecialChar():\n",
    "    spl_char = '[!@#$%^&*()_+-=/*/.,;\\?><\":|}{]'\n",
    "    in_string = input(\"Enter the string :  \")                                             \n",
    "    count=0\n",
    "    char_list = []\n",
    "    for i in in_string:\n",
    "        if i in spl_char:\n",
    "            char_list.append(i)\n",
    "            count += 1\n",
    "\n",
    "    print(f\"There are {count} special characters in {in_string} which are {char_list}\")\n",
    "            \n",
    "checkSpecialChar()"
   ]
  },
  {
   "cell_type": "code",
   "execution_count": null,
   "id": "f5082126",
   "metadata": {},
   "outputs": [],
   "source": []
  }
 ],
 "metadata": {
  "kernelspec": {
   "display_name": "Python 3 (ipykernel)",
   "language": "python",
   "name": "python3"
  },
  "language_info": {
   "codemirror_mode": {
    "name": "ipython",
    "version": 3
   },
   "file_extension": ".py",
   "mimetype": "text/x-python",
   "name": "python",
   "nbconvert_exporter": "python",
   "pygments_lexer": "ipython3",
   "version": "3.9.7"
  }
 },
 "nbformat": 4,
 "nbformat_minor": 5
}
