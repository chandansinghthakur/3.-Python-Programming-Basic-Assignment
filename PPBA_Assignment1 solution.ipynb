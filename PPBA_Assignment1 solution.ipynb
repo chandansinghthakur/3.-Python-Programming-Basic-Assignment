{
 "cells": [
  {
   "cell_type": "markdown",
   "id": "6bf59dc9",
   "metadata": {},
   "source": [
    "# 1. Write a Python program to print \"Hello Python\"?"
   ]
  },
  {
   "cell_type": "code",
   "execution_count": 1,
   "id": "1b0b4cc5",
   "metadata": {},
   "outputs": [
    {
     "name": "stdout",
     "output_type": "stream",
     "text": [
      "Hello Python\n"
     ]
    }
   ],
   "source": [
    "print(\"Hello Python\")"
   ]
  },
  {
   "cell_type": "markdown",
   "id": "c648c253",
   "metadata": {},
   "source": [
    "# 2. Write a Python program to do arithmetical operations addition and division?"
   ]
  },
  {
   "cell_type": "code",
   "execution_count": 5,
   "id": "75d38198",
   "metadata": {},
   "outputs": [
    {
     "name": "stdout",
     "output_type": "stream",
     "text": [
      "Select a Arithmatic operation: \n",
      "           1. Addition(+)\n",
      "           2. Division(/)\n",
      "Enter an arithmatic operator :  +\n",
      "\n",
      "Enter first number :  45\n",
      "\n",
      "Enter second number :  15\n",
      "45+15=60\n",
      "\n",
      "Enter an arithmatic operator :  /\n",
      "\n",
      "Enter first number :  50\n",
      "\n",
      "Enter second number :  10\n",
      "50/10=5.0\n",
      "\n",
      "Enter an arithmatic operator :  0\n",
      "Program stopped successfully\n"
     ]
    }
   ],
   "source": [
    "import operator\n",
    "op ={\"+\":operator.add, \"/\":operator.truediv}\n",
    "print('''Select a Arithmatic operation: \n",
    "           1. Addition(+)\n",
    "           2. Division(/)''')\n",
    "while True:\n",
    "    operator = input(\"Enter an arithmatic operator :  \")\n",
    "    if operator =='0':\n",
    "        print(\"Program stopped successfully\")\n",
    "        break\n",
    "    elif operator not in ['+', '/']:\n",
    "        print(\"Please, enter a valid operator\")\n",
    "    else:\n",
    "        n1= int(input(\"\\nEnter first number :  \"))\n",
    "        n2= int(input(\"\\nEnter second number :  \"))\n",
    "        print('{}{}{}={}\\n'.format(n1, operator, n2, op[operator](n1,n2)))"
   ]
  },
  {
   "cell_type": "markdown",
   "id": "486763c7",
   "metadata": {},
   "source": [
    "# 3.\tWrite a Python program to find the area of a triangle?"
   ]
  },
  {
   "cell_type": "code",
   "execution_count": 7,
   "id": "8bccc212",
   "metadata": {},
   "outputs": [
    {
     "name": "stdout",
     "output_type": "stream",
     "text": [
      "Enter the height of triangle :  50\n",
      "Enter the base of triangle :  30\n",
      "\n",
      "Area of triangle =  750.0\n"
     ]
    }
   ],
   "source": [
    "height = int(input(\"Enter the height of triangle :  \"))\n",
    "base = int(input(\"Enter the base of triangle :  \"))\n",
    "\n",
    "def areaoftriangle(height,base):\n",
    "    print('\\nArea of triangle = ', 0.5*height*base)\n",
    "    \n",
    "areaoftriangle(height,base)"
   ]
  },
  {
   "cell_type": "markdown",
   "id": "7f452686",
   "metadata": {},
   "source": [
    "# 4.\tWrite a Python program to swap two variables?"
   ]
  },
  {
   "cell_type": "code",
   "execution_count": 9,
   "id": "1b515d87",
   "metadata": {},
   "outputs": [
    {
     "name": "stdout",
     "output_type": "stream",
     "text": [
      "Enter 1st number :  45\n",
      "Enter 2nd number :  135\n",
      "Before swapping a = 45 , b = 135\n",
      "After swapping a=135, b=45\n"
     ]
    }
   ],
   "source": [
    "n1 = int(input(\"Enter 1st number :  \"))\n",
    "n2 = int(input(\"Enter 2nd number :  \"))\n",
    "\n",
    "def swapvar(a,b):\n",
    "    temp = a\n",
    "    a=b\n",
    "    b=temp\n",
    "    return a,b\n",
    "print(f\"Before swapping a = {n1} , b = {n2}\")\n",
    "n1, n2 = swapvar(n1,n2)\n",
    "print(f\"After swapping a={n1}, b={n2}\")"
   ]
  },
  {
   "cell_type": "markdown",
   "id": "b59e7393",
   "metadata": {},
   "source": [
    "# 5.\tWrite a Python program to generate a random number?"
   ]
  },
  {
   "cell_type": "code",
   "execution_count": 13,
   "id": "0b52193b",
   "metadata": {},
   "outputs": [],
   "source": [
    "from random import randint\n",
    "\n",
    "def genrandomnum(start=0, end=100):\n",
    "    print(\"Random number : \", randint(start,end))\n",
    "\n"
   ]
  },
  {
   "cell_type": "code",
   "execution_count": 14,
   "id": "9a0e5f50",
   "metadata": {},
   "outputs": [
    {
     "name": "stdout",
     "output_type": "stream",
     "text": [
      "Random number :  1\n"
     ]
    }
   ],
   "source": [
    "genrandomnum()"
   ]
  },
  {
   "cell_type": "code",
   "execution_count": 15,
   "id": "650dd69d",
   "metadata": {},
   "outputs": [
    {
     "name": "stdout",
     "output_type": "stream",
     "text": [
      "Random number :  71\n"
     ]
    }
   ],
   "source": [
    "genrandomnum()"
   ]
  },
  {
   "cell_type": "code",
   "execution_count": 16,
   "id": "e2ea189a",
   "metadata": {},
   "outputs": [
    {
     "name": "stdout",
     "output_type": "stream",
     "text": [
      "Random number :  94\n"
     ]
    }
   ],
   "source": [
    "genrandomnum()"
   ]
  },
  {
   "cell_type": "code",
   "execution_count": 17,
   "id": "e814f451",
   "metadata": {},
   "outputs": [
    {
     "name": "stdout",
     "output_type": "stream",
     "text": [
      "Random number :  48\n"
     ]
    }
   ],
   "source": [
    "genrandomnum()"
   ]
  },
  {
   "cell_type": "code",
   "execution_count": null,
   "id": "3a66a838",
   "metadata": {},
   "outputs": [],
   "source": []
  }
 ],
 "metadata": {
  "kernelspec": {
   "display_name": "Python 3 (ipykernel)",
   "language": "python",
   "name": "python3"
  },
  "language_info": {
   "codemirror_mode": {
    "name": "ipython",
    "version": 3
   },
   "file_extension": ".py",
   "mimetype": "text/x-python",
   "name": "python",
   "nbconvert_exporter": "python",
   "pygments_lexer": "ipython3",
   "version": "3.9.7"
  }
 },
 "nbformat": 4,
 "nbformat_minor": 5
}
