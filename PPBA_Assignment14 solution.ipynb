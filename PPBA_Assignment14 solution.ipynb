{
 "cells": [
  {
   "cell_type": "markdown",
   "id": "425605d1",
   "metadata": {},
   "source": [
    "#### Question 1:\n",
    "\n",
    "Define a class with a generator which can iterate the numbers, which are divisible by 7, between a given range 0 and n.\n"
   ]
  },
  {
   "cell_type": "code",
   "execution_count": 3,
   "id": "f6bee269",
   "metadata": {},
   "outputs": [],
   "source": [
    "class iterate:\n",
    "    def __init__(self, num):\n",
    "        self.num=num\n",
    "        \n",
    "    def divisible(self):\n",
    "        for i in range(self.num):\n",
    "            if i%7==0 and i>0:\n",
    "                print(i)"
   ]
  },
  {
   "cell_type": "code",
   "execution_count": 7,
   "id": "2191bf9f",
   "metadata": {},
   "outputs": [
    {
     "name": "stdout",
     "output_type": "stream",
     "text": [
      "Enter the number50\n",
      "7\n",
      "14\n",
      "21\n",
      "28\n",
      "35\n",
      "42\n",
      "49\n"
     ]
    }
   ],
   "source": [
    "a = iterate(int(input(\"Enter the number\")))\n",
    "a.divisible()"
   ]
  },
  {
   "cell_type": "markdown",
   "id": "50a2dd4c",
   "metadata": {},
   "source": [
    "#### Question 2:\n",
    "Write a program to compute the frequency of the words from the input. The output should output after sorting the key alphanumerically. \n",
    "\n",
    "Suppose the following input is supplied to the program:\n",
    "\n",
    "New to Python or choosing between Python 2 and Python 3? Read Python 2 or Python 3.\n",
    "\n",
    "Then, the output should be:\n",
    "\n",
    "2:2\n",
    "\n",
    "3.:1\n",
    "\n",
    "3?:1\n",
    "\n",
    "New:1\n",
    "\n",
    "Python:5\n",
    "\n",
    "Read:1\n",
    "\n",
    "and:1\n",
    "\n",
    "between:1\n",
    "\n",
    "choosing:1\n",
    "\n",
    "or:2\n",
    "\n",
    "to:1\n"
   ]
  },
  {
   "cell_type": "code",
   "execution_count": 8,
   "id": "e93dbb03",
   "metadata": {},
   "outputs": [
    {
     "name": "stdout",
     "output_type": "stream",
     "text": [
      "Enter a string : New to Python or choosing between Python 2 and Python 3? Read Python 2 or Python 3\n",
      "2 : 2\n",
      "3 : 1\n",
      "3? : 1\n",
      "New : 1\n",
      "Python : 5\n",
      "Read : 1\n",
      "and : 1\n",
      "between : 1\n",
      "choosing : 1\n",
      "or : 2\n",
      "to : 1\n"
     ]
    }
   ],
   "source": [
    "_ = str(input(\"Enter a string : \")).split()\n",
    "freq_check= sorted(set(_))\n",
    "\n",
    "for i in freq_check:\n",
    "    print(f\"{i} : {_.count(i)}\")"
   ]
  },
  {
   "cell_type": "markdown",
   "id": "acac7680",
   "metadata": {},
   "source": [
    "#### Question 3:\n",
    "\n",
    "\n",
    "\n",
    "Define a class Person and its two child classes: Male and Female. All classes have a method \"getGender\" which can print \"Male\" for Male class and \"Female\" for Female class.\n"
   ]
  },
  {
   "cell_type": "code",
   "execution_count": 12,
   "id": "036d78d0",
   "metadata": {},
   "outputs": [
    {
     "name": "stdout",
     "output_type": "stream",
     "text": [
      "Male\n",
      "Female\n"
     ]
    }
   ],
   "source": [
    "class Person:\n",
    "    def getGender(self):\n",
    "        pass\n",
    "\n",
    "class male(Person):\n",
    "    def getGender(self):\n",
    "        return \"Male\"\n",
    "    \n",
    "class female(Person):\n",
    "    def getGender(self):\n",
    "        return \"Female\"\n",
    "\n",
    "m = male()\n",
    "print(m.getGender())\n",
    "f = female()\n",
    "print(f.getGender())"
   ]
  },
  {
   "cell_type": "markdown",
   "id": "64200196",
   "metadata": {},
   "source": [
    "#### Question 4:\n",
    "Please write a program to generate all sentences where subject is in [\"I\", \"You\"] and verb is in [\"Play\", \"Love\"] and the object is in [\"Hockey\",\"Football\"].\n"
   ]
  },
  {
   "cell_type": "code",
   "execution_count": 13,
   "id": "2c3ed8d6",
   "metadata": {},
   "outputs": [
    {
     "name": "stdout",
     "output_type": "stream",
     "text": [
      "I Play Hockey\n",
      "I Play Football\n",
      "I Love Hockey\n",
      "I Love Football\n",
      "You Play Hockey\n",
      "You Play Football\n",
      "You Love Hockey\n",
      "You Love Football\n"
     ]
    }
   ],
   "source": [
    "subject = [\"I\", \"You\"]\n",
    "verb = [\"Play\", \"Love\"]\n",
    "obj = [\"Hockey\", \"Football\"]\n",
    "\n",
    "for i in subject:\n",
    "    for j in verb:\n",
    "        for k in obj:\n",
    "            print(f\"{i} {j} {k}\")"
   ]
  },
  {
   "cell_type": "markdown",
   "id": "486e65c1",
   "metadata": {},
   "source": [
    "#### Question 5:\n",
    "Please write a program to compress and decompress the string \"hello world!hello world!hello world!hello world!\".\n",
    "\n",
    "\n"
   ]
  },
  {
   "cell_type": "code",
   "execution_count": 15,
   "id": "c303cf52",
   "metadata": {},
   "outputs": [],
   "source": [
    "import zlib\n",
    "_str = \"hello world!hello world!hello world!hello world!\".encode()\n",
    "compress = zlib.compress()"
   ]
  },
  {
   "cell_type": "markdown",
   "id": "614a7a20",
   "metadata": {},
   "source": [
    "#### Question 6:\n",
    "Please write a binary search function which searches an item in a sorted list. The function should return the index of element to be searched in the list."
   ]
  },
  {
   "cell_type": "code",
   "execution_count": 29,
   "id": "c8b93d66",
   "metadata": {},
   "outputs": [
    {
     "name": "stdout",
     "output_type": "stream",
     "text": [
      "Enter the number to be searched : 54\n",
      "[1, 1, 2, 3, 3, 4, 5, 6, 7, 7, 9]\n",
      "Index of searched element : Element not in list\n"
     ]
    }
   ],
   "source": [
    "def binary_search(l,n):\n",
    "    low = 0\n",
    "    high = len(l)-1\n",
    "    \n",
    "    while low<=high:\n",
    "        mid=(low+high)//2\n",
    "        if l[mid]<n:\n",
    "            low=mid+1\n",
    "        elif l[mid]>n:\n",
    "            high=mid-1\n",
    "        else:\n",
    "            return mid\n",
    "    return \"Element not in list\"\n",
    "\n",
    "l= [1,9,2,7,4,3,6,5,1,3,7]\n",
    "l.sort()\n",
    "x=int(input(\"Enter the number to be searched : \"))\n",
    "print(l)\n",
    "print(f\"Index of searched element : {binary_search(l,x)}\")"
   ]
  },
  {
   "cell_type": "code",
   "execution_count": null,
   "id": "554e627e",
   "metadata": {},
   "outputs": [],
   "source": []
  }
 ],
 "metadata": {
  "kernelspec": {
   "display_name": "Python 3 (ipykernel)",
   "language": "python",
   "name": "python3"
  },
  "language_info": {
   "codemirror_mode": {
    "name": "ipython",
    "version": 3
   },
   "file_extension": ".py",
   "mimetype": "text/x-python",
   "name": "python",
   "nbconvert_exporter": "python",
   "pygments_lexer": "ipython3",
   "version": "3.9.7"
  }
 },
 "nbformat": 4,
 "nbformat_minor": 5
}
