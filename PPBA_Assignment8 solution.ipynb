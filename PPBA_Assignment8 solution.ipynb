{
 "cells": [
  {
   "cell_type": "markdown",
   "id": "29c21fe9",
   "metadata": {},
   "source": [
    "## 1.\tWrite a Python Program to Add Two Matrices?"
   ]
  },
  {
   "cell_type": "code",
   "execution_count": 3,
   "id": "1df1595c",
   "metadata": {},
   "outputs": [
    {
     "name": "stdout",
     "output_type": "stream",
     "text": [
      "Inputs : [[21, 32, 36], [45, 53, 24], [45, 34, 55]], [[96, 85, 71], [18, 47, 66], [77, 36, 65]]\n",
      "Output : [[117, 117, 107], [63, 100, 90], [122, 70, 120]]\n"
     ]
    }
   ],
   "source": [
    "def addmatrices(a,b):\n",
    "    print(f\"Inputs : {a}, {b}\")\n",
    "    if len(a) == len(b):\n",
    "        res_matrix = []\n",
    "        for i in range(len(a)):\n",
    "            if len(a[i]) == len(b[i]):\n",
    "                res_matrix.append([])\n",
    "                for j in range(len(a[i])):\n",
    "                    res_matrix[i].append(a[i][j]+b[i][j])\n",
    "            else:\n",
    "                print(\"Both matrices must contains same no. of rows and columns\")\n",
    "    else:\n",
    "        print(\"Both matrices must contains same no. of rows and columns\")\n",
    "    print(f'Output : {res_matrix}')\n",
    "    \n",
    "addmatrices([[21,32,36],[45,53,24],[45,34,55]],[[96,85,71],[18,47,66],[77,36,65]])\n"
   ]
  },
  {
   "cell_type": "markdown",
   "id": "4bdf3571",
   "metadata": {},
   "source": [
    "# OR"
   ]
  },
  {
   "cell_type": "code",
   "execution_count": 13,
   "id": "9a5a5e07",
   "metadata": {},
   "outputs": [
    {
     "name": "stdout",
     "output_type": "stream",
     "text": [
      "[117 117 107]\n",
      "[ 63 100  90]\n",
      "[122  70 120]\n"
     ]
    }
   ],
   "source": [
    "import numpy as np\n",
    "a = [[21,32,36],[45,53,24],[45,34,55]]\n",
    "b = [[96,85,71],[18,47,66],[77,36,65]]\n",
    "c = []\n",
    "c = np.add(a,b)\n",
    "for r in c:\n",
    "    print(r)"
   ]
  },
  {
   "cell_type": "markdown",
   "id": "fb29a64c",
   "metadata": {},
   "source": [
    "## 2.\tWrite a Python Program to Multiply Two Matrices?"
   ]
  },
  {
   "cell_type": "code",
   "execution_count": 11,
   "id": "7018bed4",
   "metadata": {},
   "outputs": [
    {
     "name": "stdout",
     "output_type": "stream",
     "text": [
      "[5364 4585 5943]\n",
      "[7122 7180 8253]\n",
      "[9167 7403 9014]\n"
     ]
    }
   ],
   "source": [
    "import numpy as np\n",
    "a = [[21,32,36],[45,53,24],[45,34,55]]\n",
    "b = [[96,85,71],[18,47,66],[77,36,65]]\n",
    "c = []\n",
    "c = np.dot(a,b)\n",
    "for r in c:\n",
    "    print(r)"
   ]
  },
  {
   "cell_type": "markdown",
   "id": "75b6da38",
   "metadata": {},
   "source": [
    "## 3.\tWrite a Python Program to Transpose a Matrix?"
   ]
  },
  {
   "cell_type": "code",
   "execution_count": 14,
   "id": "82acbd34",
   "metadata": {},
   "outputs": [
    {
     "name": "stdout",
     "output_type": "stream",
     "text": [
      "[21 45 45]\n",
      "[32 53 34]\n",
      "[36 24 55]\n"
     ]
    }
   ],
   "source": [
    "a = [[21,32,36],[45,53,24],[45,34,55]]\n",
    "t = []\n",
    "t = np.transpose(a)\n",
    "for i in t:\n",
    "    print(i)"
   ]
  },
  {
   "cell_type": "markdown",
   "id": "cd91fdd6",
   "metadata": {},
   "source": [
    "## 4.\tWrite a Python Program to Sort Words in Alphabetic Order?"
   ]
  },
  {
   "cell_type": "code",
   "execution_count": 20,
   "id": "65137b4f",
   "metadata": {},
   "outputs": [
    {
     "name": "stdout",
     "output_type": "stream",
     "text": [
      "Enter a string : my name is chandan singh thakur\n",
      "chandan is my name singh thakur\n"
     ]
    }
   ],
   "source": [
    "def sorting():\n",
    "    a = input(\"Enter a string : \")\n",
    "    sort = sorted(a.split(' '))\n",
    "    print(' '.join(sort))\n",
    "sorting()"
   ]
  },
  {
   "cell_type": "markdown",
   "id": "78594ced",
   "metadata": {},
   "source": [
    "## 5.\tWrite a Python Program to Remove Punctuation From a String?"
   ]
  },
  {
   "cell_type": "code",
   "execution_count": 21,
   "id": "bcd0d859",
   "metadata": {},
   "outputs": [
    {
     "name": "stdout",
     "output_type": "stream",
     "text": [
      "Enter a string : my name is !chandan % & i love my\n",
      " my name is chandan   i love my\n"
     ]
    }
   ],
   "source": [
    "def removepunctuation():\n",
    "    punctuations = \"'!:;,.()[]{}-_<>?/\\|@#$%^&*\"\n",
    "    in_string = input(\"Enter a string : \")\n",
    "    out_string = \" \"\n",
    "    for i in in_string:\n",
    "        if i not in punctuations:\n",
    "            out_string += i\n",
    "    print(out_string)\n",
    "    \n",
    "removepunctuation()"
   ]
  },
  {
   "cell_type": "code",
   "execution_count": null,
   "id": "4880da77",
   "metadata": {},
   "outputs": [],
   "source": []
  }
 ],
 "metadata": {
  "kernelspec": {
   "display_name": "Python 3 (ipykernel)",
   "language": "python",
   "name": "python3"
  },
  "language_info": {
   "codemirror_mode": {
    "name": "ipython",
    "version": 3
   },
   "file_extension": ".py",
   "mimetype": "text/x-python",
   "name": "python",
   "nbconvert_exporter": "python",
   "pygments_lexer": "ipython3",
   "version": "3.9.7"
  }
 },
 "nbformat": 4,
 "nbformat_minor": 5
}
